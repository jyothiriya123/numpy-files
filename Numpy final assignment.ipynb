{
 "cells": [
  {
   "cell_type": "code",
   "execution_count": 16,
   "id": "92ba4ae2",
   "metadata": {},
   "outputs": [],
   "source": [
    "import numpy as np"
   ]
  },
  {
   "cell_type": "code",
   "execution_count": 17,
   "id": "fabacd05",
   "metadata": {},
   "outputs": [],
   "source": [
    "w=np.genfromtxt(r\"C:\\Users\\user\\Downloads\\train_extended.csv\",delimiter=\",\",skip_header=1)"
   ]
  },
  {
   "cell_type": "code",
   "execution_count": 18,
   "id": "673c530f",
   "metadata": {},
   "outputs": [
    {
     "data": {
      "text/plain": [
       "array([[ 1.575     ,  1.225     ,  0.375     , ...,  6.3219385 ,\n",
       "         9.63883   , 10.        ],\n",
       "       [ 1.2375    ,  1.        ,  0.375     , ...,  3.798833  ,\n",
       "         7.654365  , 19.        ],\n",
       "       [ 1.45      ,  1.1625    ,  0.4125    , ...,  7.01650125,\n",
       "         7.257472  , 11.        ],\n",
       "       ...,\n",
       "       [ 1.125     ,  0.9125    ,  0.2875    , ...,  1.984465  ,\n",
       "         3.118445  ,  7.        ],\n",
       "       [ 1.625     ,  1.275     ,  0.4125    , ...,  7.86698625,\n",
       "        10.489315  , 11.        ],\n",
       "       [ 1.5875    ,  1.25      ,  0.3875    , ...,  7.38504475,\n",
       "         8.788345  , 11.        ]])"
      ]
     },
     "execution_count": 18,
     "metadata": {},
     "output_type": "execute_result"
    }
   ],
   "source": [
    "w"
   ]
  },
  {
   "cell_type": "code",
   "execution_count": 19,
   "id": "e1127907",
   "metadata": {},
   "outputs": [],
   "source": [
    "length=w[:,0:1]"
   ]
  },
  {
   "cell_type": "code",
   "execution_count": 20,
   "id": "5916f064",
   "metadata": {},
   "outputs": [
    {
     "data": {
      "text/plain": [
       "array([[1.575 ],\n",
       "       [1.2375],\n",
       "       [1.45  ],\n",
       "       ...,\n",
       "       [1.125 ],\n",
       "       [1.625 ],\n",
       "       [1.5875]])"
      ]
     },
     "execution_count": 20,
     "metadata": {},
     "output_type": "execute_result"
    }
   ],
   "source": [
    "length"
   ]
  },
  {
   "cell_type": "code",
   "execution_count": 21,
   "id": "92c291af",
   "metadata": {},
   "outputs": [],
   "source": [
    "diameter=w[:,1:2]"
   ]
  },
  {
   "cell_type": "code",
   "execution_count": 22,
   "id": "ae2ba046",
   "metadata": {},
   "outputs": [
    {
     "data": {
      "text/plain": [
       "array([[1.225 ],\n",
       "       [1.    ],\n",
       "       [1.1625],\n",
       "       ...,\n",
       "       [0.9125],\n",
       "       [1.275 ],\n",
       "       [1.25  ]])"
      ]
     },
     "execution_count": 22,
     "metadata": {},
     "output_type": "execute_result"
    }
   ],
   "source": [
    "diameter"
   ]
  },
  {
   "cell_type": "code",
   "execution_count": 23,
   "id": "aa63c8ef",
   "metadata": {},
   "outputs": [],
   "source": [
    "height=w[:,2:3]"
   ]
  },
  {
   "cell_type": "code",
   "execution_count": 24,
   "id": "736f3bdc",
   "metadata": {},
   "outputs": [
    {
     "data": {
      "text/plain": [
       "array([[0.375 ],\n",
       "       [0.375 ],\n",
       "       [0.4125],\n",
       "       ...,\n",
       "       [0.2875],\n",
       "       [0.4125],\n",
       "       [0.3875]])"
      ]
     },
     "execution_count": 24,
     "metadata": {},
     "output_type": "execute_result"
    }
   ],
   "source": [
    "height"
   ]
  },
  {
   "cell_type": "code",
   "execution_count": 25,
   "id": "a3679cae",
   "metadata": {},
   "outputs": [],
   "source": [
    "weight=w[:,3:4]"
   ]
  },
  {
   "cell_type": "code",
   "execution_count": 26,
   "id": "e2073983",
   "metadata": {},
   "outputs": [
    {
     "data": {
      "text/plain": [
       "array([[31.22697425],\n",
       "       [21.885814  ],\n",
       "       [28.25027675],\n",
       "       ...,\n",
       "       [10.886208  ],\n",
       "       [33.89182725],\n",
       "       [34.37376875]])"
      ]
     },
     "execution_count": 26,
     "metadata": {},
     "output_type": "execute_result"
    }
   ],
   "source": [
    "weight"
   ]
  },
  {
   "cell_type": "code",
   "execution_count": 27,
   "id": "921c3583",
   "metadata": {},
   "outputs": [],
   "source": [
    "shuckedw=w[:,4:5]"
   ]
  },
  {
   "cell_type": "code",
   "execution_count": 28,
   "id": "246fdff1",
   "metadata": {},
   "outputs": [
    {
     "data": {
      "text/plain": [
       "array([[12.303683  ],\n",
       "       [ 7.654365  ],\n",
       "       [11.12717875],\n",
       "       ...,\n",
       "       [ 4.9044635 ],\n",
       "       [13.19669225],\n",
       "       [17.22232125]])"
      ]
     },
     "execution_count": 28,
     "metadata": {},
     "output_type": "execute_result"
    }
   ],
   "source": [
    "shuckedw"
   ]
  },
  {
   "cell_type": "code",
   "execution_count": 29,
   "id": "9ab52b78",
   "metadata": {},
   "outputs": [],
   "source": [
    "visceraw=w[:,5:6]"
   ]
  },
  {
   "cell_type": "code",
   "execution_count": 30,
   "id": "1a90fa3f",
   "metadata": {},
   "outputs": [
    {
     "data": {
      "text/plain": [
       "array([[6.3219385 ],\n",
       "       [3.798833  ],\n",
       "       [7.01650125],\n",
       "       ...,\n",
       "       [1.984465  ],\n",
       "       [7.86698625],\n",
       "       [7.38504475]])"
      ]
     },
     "execution_count": 30,
     "metadata": {},
     "output_type": "execute_result"
    }
   ],
   "source": [
    "visceraw"
   ]
  },
  {
   "cell_type": "code",
   "execution_count": 31,
   "id": "6e22a136",
   "metadata": {},
   "outputs": [],
   "source": [
    "shellw=w[:,6:7]"
   ]
  },
  {
   "cell_type": "code",
   "execution_count": 32,
   "id": "5cf12af7",
   "metadata": {},
   "outputs": [
    {
     "data": {
      "text/plain": [
       "array([[ 9.63883 ],\n",
       "       [ 7.654365],\n",
       "       [ 7.257472],\n",
       "       ...,\n",
       "       [ 3.118445],\n",
       "       [10.489315],\n",
       "       [ 8.788345]])"
      ]
     },
     "execution_count": 32,
     "metadata": {},
     "output_type": "execute_result"
    }
   ],
   "source": [
    "shellw"
   ]
  },
  {
   "cell_type": "code",
   "execution_count": 33,
   "id": "914c855a",
   "metadata": {},
   "outputs": [],
   "source": [
    "age=w[:,7:8]"
   ]
  },
  {
   "cell_type": "code",
   "execution_count": 34,
   "id": "cdd83a6c",
   "metadata": {},
   "outputs": [
    {
     "data": {
      "text/plain": [
       "array([[10.],\n",
       "       [19.],\n",
       "       [11.],\n",
       "       ...,\n",
       "       [ 7.],\n",
       "       [11.],\n",
       "       [11.]])"
      ]
     },
     "execution_count": 34,
     "metadata": {},
     "output_type": "execute_result"
    }
   ],
   "source": [
    "age"
   ]
  },
  {
   "cell_type": "code",
   "execution_count": 35,
   "id": "ee937eaa",
   "metadata": {},
   "outputs": [
    {
     "data": {
      "text/plain": [
       "80.10151225"
      ]
     },
     "execution_count": 35,
     "metadata": {},
     "output_type": "execute_result"
    }
   ],
   "source": [
    "#1. max and min length\n",
    "np.max(w)"
   ]
  },
  {
   "cell_type": "code",
   "execution_count": 36,
   "id": "f50dab80",
   "metadata": {},
   "outputs": [
    {
     "data": {
      "text/plain": [
       "0.0"
      ]
     },
     "execution_count": 36,
     "metadata": {},
     "output_type": "execute_result"
    }
   ],
   "source": [
    "np.min(w)"
   ]
  },
  {
   "cell_type": "code",
   "execution_count": 37,
   "id": "37f29bb9",
   "metadata": {},
   "outputs": [
    {
     "data": {
      "text/plain": [
       "80.10151225"
      ]
     },
     "execution_count": 37,
     "metadata": {},
     "output_type": "execute_result"
    }
   ],
   "source": [
    "#2. Difference between max and min length\n",
    "np.max(w)-np.min(w)"
   ]
  },
  {
   "cell_type": "code",
   "execution_count": 38,
   "id": "86731ff6",
   "metadata": {},
   "outputs": [
    {
     "data": {
      "text/plain": [
       "array([ 1.31244808,  1.02032036,  0.34602787, 23.12343631,  9.98937025,\n",
       "        4.99318096,  6.63422915,  9.950615  ])"
      ]
     },
     "execution_count": 38,
     "metadata": {},
     "output_type": "execute_result"
    }
   ],
   "source": [
    "#3. column wise average\n",
    "np.average(w,axis=0)"
   ]
  },
  {
   "cell_type": "code",
   "execution_count": 39,
   "id": "a10f704f",
   "metadata": {},
   "outputs": [
    {
     "data": {
      "text/plain": [
       "array([[10.],\n",
       "       [19.],\n",
       "       [11.],\n",
       "       ...,\n",
       "       [ 7.],\n",
       "       [11.],\n",
       "       [11.]])"
      ]
     },
     "execution_count": 39,
     "metadata": {},
     "output_type": "execute_result"
    }
   ],
   "source": [
    "#4. find out the whose height is greater than 0.4\n",
    "age"
   ]
  },
  {
   "cell_type": "code",
   "execution_count": 40,
   "id": "1a2c80b1",
   "metadata": {},
   "outputs": [
    {
     "data": {
      "text/plain": [
       "[array([[False],\n",
       "        [False],\n",
       "        [ True],\n",
       "        ...,\n",
       "        [False],\n",
       "        [ True],\n",
       "        [False]])]"
      ]
     },
     "execution_count": 40,
     "metadata": {},
     "output_type": "execute_result"
    }
   ],
   "source": [
    "[height>0.4]"
   ]
  },
  {
   "cell_type": "code",
   "execution_count": 41,
   "id": "1ded1a10",
   "metadata": {},
   "outputs": [
    {
     "data": {
      "text/plain": [
       "array([11., 14., 13., ..., 11., 11., 11.])"
      ]
     },
     "execution_count": 41,
     "metadata": {},
     "output_type": "execute_result"
    }
   ],
   "source": [
    "age[height>0.4]"
   ]
  },
  {
   "cell_type": "code",
   "execution_count": 42,
   "id": "89f1652e",
   "metadata": {},
   "outputs": [],
   "source": [
    "#5. Average height and weight whose age=10"
   ]
  },
  {
   "cell_type": "code",
   "execution_count": 43,
   "id": "c1b2eabb",
   "metadata": {},
   "outputs": [
    {
     "data": {
      "text/plain": [
       "array([[10.],\n",
       "       [19.],\n",
       "       [11.],\n",
       "       ...,\n",
       "       [ 7.],\n",
       "       [11.],\n",
       "       [11.]])"
      ]
     },
     "execution_count": 43,
     "metadata": {},
     "output_type": "execute_result"
    }
   ],
   "source": [
    "age"
   ]
  },
  {
   "cell_type": "code",
   "execution_count": 44,
   "id": "b1f46e5f",
   "metadata": {},
   "outputs": [],
   "source": [
    "a=height[age==10]"
   ]
  },
  {
   "cell_type": "code",
   "execution_count": 45,
   "id": "28c7b9c6",
   "metadata": {},
   "outputs": [
    {
     "data": {
      "text/plain": [
       "array([0.375 , 0.4   , 0.3375, ..., 0.3125, 0.3875, 0.3875])"
      ]
     },
     "execution_count": 45,
     "metadata": {},
     "output_type": "execute_result"
    }
   ],
   "source": [
    "a"
   ]
  },
  {
   "cell_type": "code",
   "execution_count": 46,
   "id": "f75c030c",
   "metadata": {},
   "outputs": [
    {
     "data": {
      "text/plain": [
       "0.3833672856539947"
      ]
     },
     "execution_count": 46,
     "metadata": {},
     "output_type": "execute_result"
    }
   ],
   "source": [
    "np.average(a)"
   ]
  },
  {
   "cell_type": "code",
   "execution_count": 47,
   "id": "a08dcdac",
   "metadata": {},
   "outputs": [],
   "source": [
    "b=weight[age==10]"
   ]
  },
  {
   "cell_type": "code",
   "execution_count": 48,
   "id": "8224ff0f",
   "metadata": {},
   "outputs": [
    {
     "data": {
      "text/plain": [
       "array([31.22697425, 28.33532525, 18.313777  , ..., 26.18076325,\n",
       "       30.46153775, 34.9549335 ])"
      ]
     },
     "execution_count": 48,
     "metadata": {},
     "output_type": "execute_result"
    }
   ],
   "source": [
    "b"
   ]
  },
  {
   "cell_type": "code",
   "execution_count": 49,
   "id": "346b55a6",
   "metadata": {},
   "outputs": [
    {
     "data": {
      "text/plain": [
       "28.243308450511314"
      ]
     },
     "execution_count": 49,
     "metadata": {},
     "output_type": "execute_result"
    }
   ],
   "source": [
    "np.average(b)"
   ]
  },
  {
   "cell_type": "code",
   "execution_count": 50,
   "id": "8daefbc1",
   "metadata": {},
   "outputs": [],
   "source": [
    "#6. total shell weight"
   ]
  },
  {
   "cell_type": "code",
   "execution_count": 51,
   "id": "59caca62",
   "metadata": {},
   "outputs": [
    {
     "data": {
      "text/plain": [
       "array([[ 9.63883 ],\n",
       "       [ 7.654365],\n",
       "       [ 7.257472],\n",
       "       ...,\n",
       "       [ 3.118445],\n",
       "       [10.489315],\n",
       "       [ 8.788345]])"
      ]
     },
     "execution_count": 51,
     "metadata": {},
     "output_type": "execute_result"
    }
   ],
   "source": [
    "shellw"
   ]
  },
  {
   "cell_type": "code",
   "execution_count": 52,
   "id": "71342203",
   "metadata": {},
   "outputs": [
    {
     "data": {
      "text/plain": [
       "1326845.8295214002"
      ]
     },
     "execution_count": 52,
     "metadata": {},
     "output_type": "execute_result"
    }
   ],
   "source": [
    "np.sum(shellw)"
   ]
  },
  {
   "cell_type": "code",
   "execution_count": 53,
   "id": "5fd3d82c",
   "metadata": {},
   "outputs": [],
   "source": [
    "#7. how many persons belong to each and every unique age\n",
    "a=np.unique(age)"
   ]
  },
  {
   "cell_type": "code",
   "execution_count": 106,
   "id": "44c59725",
   "metadata": {},
   "outputs": [
    {
     "data": {
      "text/plain": [
       "(array([ 1.,  2.,  3.,  4.,  5.,  6.,  7.,  8.,  9., 10., 11., 12., 13.,\n",
       "        14., 15., 16., 17., 18., 19., 20., 21., 22., 23., 24., 25., 26.,\n",
       "        27., 29.]),\n",
       " array([   46,    42,   625,  2787,  5475, 12450, 18276, 26818, 32906,\n",
       "        30803, 23457, 12717, 10037,  6352,  4831,  3191,  2705,  1953,\n",
       "         1591,  1206,   721,   296,   352,   110,    51,    46,    99,\n",
       "           57], dtype=int64))"
      ]
     },
     "execution_count": 106,
     "metadata": {},
     "output_type": "execute_result"
    }
   ],
   "source": [
    "age=w[:,7]\n",
    "np.unique(age,return_counts=True)"
   ]
  },
  {
   "cell_type": "code",
   "execution_count": 55,
   "id": "37e391ec",
   "metadata": {},
   "outputs": [
    {
     "data": {
      "text/plain": [
       "array([[12.303683  ],\n",
       "       [ 7.654365  ],\n",
       "       [11.12717875],\n",
       "       ...,\n",
       "       [ 4.9044635 ],\n",
       "       [13.19669225],\n",
       "       [17.22232125]])"
      ]
     },
     "execution_count": 55,
     "metadata": {},
     "output_type": "execute_result"
    }
   ],
   "source": [
    "#8. Difference shucked weight and viscera weight \n",
    "shuckedw"
   ]
  },
  {
   "cell_type": "code",
   "execution_count": 61,
   "id": "e197823e",
   "metadata": {},
   "outputs": [
    {
     "data": {
      "text/plain": [
       "array([[6.3219385 ],\n",
       "       [3.798833  ],\n",
       "       [7.01650125],\n",
       "       ...,\n",
       "       [1.984465  ],\n",
       "       [7.86698625],\n",
       "       [7.38504475]])"
      ]
     },
     "execution_count": 61,
     "metadata": {},
     "output_type": "execute_result"
    }
   ],
   "source": [
    "visceraw"
   ]
  },
  {
   "cell_type": "code",
   "execution_count": 62,
   "id": "0151951b",
   "metadata": {},
   "outputs": [
    {
     "data": {
      "text/plain": [
       "array([[5.9817445],\n",
       "       [3.855532 ],\n",
       "       [4.1106775],\n",
       "       ...,\n",
       "       [2.9199985],\n",
       "       [5.329706 ],\n",
       "       [9.8372765]])"
      ]
     },
     "execution_count": 62,
     "metadata": {},
     "output_type": "execute_result"
    }
   ],
   "source": [
    "shuckedw-visceraw"
   ]
  },
  {
   "cell_type": "code",
   "execution_count": 63,
   "id": "4b32a2a3",
   "metadata": {},
   "outputs": [],
   "source": [
    "#9. Average height of a person whose age between 14 & 19"
   ]
  },
  {
   "cell_type": "code",
   "execution_count": 110,
   "id": "d23eccf3",
   "metadata": {},
   "outputs": [],
   "source": [
    "x=w[w[:,7]>14]\n",
    "y=x[x[:,7]<19]\n",
    "z=y[:,3]"
   ]
  },
  {
   "cell_type": "code",
   "execution_count": 111,
   "id": "2285a322",
   "metadata": {},
   "outputs": [
    {
     "data": {
      "text/plain": [
       "32.11337167476735"
      ]
     },
     "execution_count": 111,
     "metadata": {},
     "output_type": "execute_result"
    }
   ],
   "source": [
    "np.mean(z)"
   ]
  },
  {
   "cell_type": "code",
   "execution_count": 66,
   "id": "07e1ceee",
   "metadata": {},
   "outputs": [],
   "source": [
    "#10. what is average weight if include shuckedw weight,viceraw and shell weight\n",
    "x=np.average(shellw)"
   ]
  },
  {
   "cell_type": "code",
   "execution_count": 67,
   "id": "d9410115",
   "metadata": {},
   "outputs": [
    {
     "data": {
      "text/plain": [
       "6.634229147607001"
      ]
     },
     "execution_count": 67,
     "metadata": {},
     "output_type": "execute_result"
    }
   ],
   "source": [
    "x"
   ]
  },
  {
   "cell_type": "code",
   "execution_count": 68,
   "id": "9fc0f53b",
   "metadata": {},
   "outputs": [],
   "source": [
    "y=np.average(shuckedw)"
   ]
  },
  {
   "cell_type": "code",
   "execution_count": 69,
   "id": "8eed9bd4",
   "metadata": {},
   "outputs": [
    {
     "data": {
      "text/plain": [
       "9.989370248049001"
      ]
     },
     "execution_count": 69,
     "metadata": {},
     "output_type": "execute_result"
    }
   ],
   "source": [
    "y"
   ]
  },
  {
   "cell_type": "code",
   "execution_count": 70,
   "id": "ccc1d63a",
   "metadata": {},
   "outputs": [],
   "source": [
    "z=np.average(visceraw)"
   ]
  },
  {
   "cell_type": "code",
   "execution_count": 71,
   "id": "161fb235",
   "metadata": {},
   "outputs": [
    {
     "data": {
      "text/plain": [
       "4.993180956748749"
      ]
     },
     "execution_count": 71,
     "metadata": {},
     "output_type": "execute_result"
    }
   ],
   "source": [
    "z"
   ]
  },
  {
   "cell_type": "code",
   "execution_count": 72,
   "id": "eae3c3a9",
   "metadata": {},
   "outputs": [
    {
     "data": {
      "text/plain": [
       "7.205593450801583"
      ]
     },
     "execution_count": 72,
     "metadata": {},
     "output_type": "execute_result"
    }
   ],
   "source": [
    "(x+y+z)/3"
   ]
  },
  {
   "cell_type": "code",
   "execution_count": 73,
   "id": "1b2bb20e",
   "metadata": {},
   "outputs": [],
   "source": [
    "# second sheet"
   ]
  },
  {
   "cell_type": "code",
   "execution_count": 74,
   "id": "a734fd93",
   "metadata": {},
   "outputs": [],
   "source": [
    "y=np.genfromtxt(r\"C:\\Users\\user\\Downloads\\tipsf (1).csv\",delimiter=\",\",skip_header=1)"
   ]
  },
  {
   "cell_type": "code",
   "execution_count": 75,
   "id": "dc64300d",
   "metadata": {},
   "outputs": [
    {
     "data": {
      "text/plain": [
       "array([[  0.  ,  16.99,   1.01, ...,   1.  ,   0.  ,   2.  ],\n",
       "       [  1.  ,  10.34,   1.66, ...,   1.  ,   0.  ,   3.  ],\n",
       "       [  2.  ,  21.01,   3.5 , ...,   1.  ,   0.  ,   3.  ],\n",
       "       ...,\n",
       "       [241.  ,  22.67,   2.  , ...,   0.  ,   0.  ,   2.  ],\n",
       "       [242.  ,  17.82,   1.75, ...,   0.  ,   0.  ,   2.  ],\n",
       "       [243.  ,  18.78,   3.  , ...,   2.  ,   0.  ,   2.  ]])"
      ]
     },
     "execution_count": 75,
     "metadata": {},
     "output_type": "execute_result"
    }
   ],
   "source": [
    "y"
   ]
  },
  {
   "cell_type": "code",
   "execution_count": 76,
   "id": "83a41df0",
   "metadata": {},
   "outputs": [],
   "source": [
    "totalbill=y[:,1:2]"
   ]
  },
  {
   "cell_type": "code",
   "execution_count": 77,
   "id": "63fa48dd",
   "metadata": {},
   "outputs": [
    {
     "data": {
      "text/plain": [
       "array([[16.99],\n",
       "       [10.34],\n",
       "       [21.01],\n",
       "       [23.68],\n",
       "       [24.59],\n",
       "       [25.29],\n",
       "       [ 8.77],\n",
       "       [26.88],\n",
       "       [15.04],\n",
       "       [14.78],\n",
       "       [10.27],\n",
       "       [35.26],\n",
       "       [15.42],\n",
       "       [18.43],\n",
       "       [14.83],\n",
       "       [21.58],\n",
       "       [10.33],\n",
       "       [16.29],\n",
       "       [16.97],\n",
       "       [20.65],\n",
       "       [17.92],\n",
       "       [20.29],\n",
       "       [15.77],\n",
       "       [39.42],\n",
       "       [19.82],\n",
       "       [17.81],\n",
       "       [13.37],\n",
       "       [12.69],\n",
       "       [21.7 ],\n",
       "       [19.65],\n",
       "       [ 9.55],\n",
       "       [18.35],\n",
       "       [15.06],\n",
       "       [20.69],\n",
       "       [17.78],\n",
       "       [24.06],\n",
       "       [16.31],\n",
       "       [16.93],\n",
       "       [18.69],\n",
       "       [31.27],\n",
       "       [16.04],\n",
       "       [17.46],\n",
       "       [13.94],\n",
       "       [ 9.68],\n",
       "       [30.4 ],\n",
       "       [18.29],\n",
       "       [22.23],\n",
       "       [32.4 ],\n",
       "       [28.55],\n",
       "       [18.04],\n",
       "       [12.54],\n",
       "       [10.29],\n",
       "       [34.81],\n",
       "       [ 9.94],\n",
       "       [25.56],\n",
       "       [19.49],\n",
       "       [38.01],\n",
       "       [26.41],\n",
       "       [11.24],\n",
       "       [48.27],\n",
       "       [20.29],\n",
       "       [13.81],\n",
       "       [11.02],\n",
       "       [18.29],\n",
       "       [17.59],\n",
       "       [20.08],\n",
       "       [16.45],\n",
       "       [ 3.07],\n",
       "       [20.23],\n",
       "       [15.01],\n",
       "       [12.02],\n",
       "       [17.07],\n",
       "       [26.86],\n",
       "       [25.28],\n",
       "       [14.73],\n",
       "       [10.51],\n",
       "       [17.92],\n",
       "       [27.2 ],\n",
       "       [22.76],\n",
       "       [17.29],\n",
       "       [19.44],\n",
       "       [16.66],\n",
       "       [10.07],\n",
       "       [32.68],\n",
       "       [15.98],\n",
       "       [34.83],\n",
       "       [13.03],\n",
       "       [18.28],\n",
       "       [24.71],\n",
       "       [21.16],\n",
       "       [28.97],\n",
       "       [22.49],\n",
       "       [ 5.75],\n",
       "       [16.32],\n",
       "       [22.75],\n",
       "       [40.17],\n",
       "       [27.28],\n",
       "       [12.03],\n",
       "       [21.01],\n",
       "       [12.46],\n",
       "       [11.35],\n",
       "       [15.38],\n",
       "       [44.3 ],\n",
       "       [22.42],\n",
       "       [20.92],\n",
       "       [15.36],\n",
       "       [20.49],\n",
       "       [25.21],\n",
       "       [18.24],\n",
       "       [14.31],\n",
       "       [14.  ],\n",
       "       [ 7.25],\n",
       "       [38.07],\n",
       "       [23.95],\n",
       "       [25.71],\n",
       "       [17.31],\n",
       "       [29.93],\n",
       "       [10.65],\n",
       "       [12.43],\n",
       "       [24.08],\n",
       "       [11.69],\n",
       "       [13.42],\n",
       "       [14.26],\n",
       "       [15.95],\n",
       "       [12.48],\n",
       "       [29.8 ],\n",
       "       [ 8.52],\n",
       "       [14.52],\n",
       "       [11.38],\n",
       "       [22.82],\n",
       "       [19.08],\n",
       "       [20.27],\n",
       "       [11.17],\n",
       "       [12.26],\n",
       "       [18.26],\n",
       "       [ 8.51],\n",
       "       [10.33],\n",
       "       [14.15],\n",
       "       [16.  ],\n",
       "       [13.16],\n",
       "       [17.47],\n",
       "       [34.3 ],\n",
       "       [41.19],\n",
       "       [27.05],\n",
       "       [16.43],\n",
       "       [ 8.35],\n",
       "       [18.64],\n",
       "       [11.87],\n",
       "       [ 9.78],\n",
       "       [ 7.51],\n",
       "       [14.07],\n",
       "       [13.13],\n",
       "       [17.26],\n",
       "       [24.55],\n",
       "       [19.77],\n",
       "       [29.85],\n",
       "       [48.17],\n",
       "       [25.  ],\n",
       "       [13.39],\n",
       "       [16.49],\n",
       "       [21.5 ],\n",
       "       [12.66],\n",
       "       [16.21],\n",
       "       [13.81],\n",
       "       [17.51],\n",
       "       [24.52],\n",
       "       [20.76],\n",
       "       [31.71],\n",
       "       [10.59],\n",
       "       [10.63],\n",
       "       [50.81],\n",
       "       [15.81],\n",
       "       [ 7.25],\n",
       "       [31.85],\n",
       "       [16.82],\n",
       "       [32.9 ],\n",
       "       [17.89],\n",
       "       [14.48],\n",
       "       [ 9.6 ],\n",
       "       [34.63],\n",
       "       [34.65],\n",
       "       [23.33],\n",
       "       [45.35],\n",
       "       [23.17],\n",
       "       [40.55],\n",
       "       [20.69],\n",
       "       [20.9 ],\n",
       "       [30.46],\n",
       "       [18.15],\n",
       "       [23.1 ],\n",
       "       [15.69],\n",
       "       [19.81],\n",
       "       [28.44],\n",
       "       [15.48],\n",
       "       [16.58],\n",
       "       [ 7.56],\n",
       "       [10.34],\n",
       "       [43.11],\n",
       "       [13.  ],\n",
       "       [13.51],\n",
       "       [18.71],\n",
       "       [12.74],\n",
       "       [13.  ],\n",
       "       [16.4 ],\n",
       "       [20.53],\n",
       "       [16.47],\n",
       "       [26.59],\n",
       "       [38.73],\n",
       "       [24.27],\n",
       "       [12.76],\n",
       "       [30.06],\n",
       "       [25.89],\n",
       "       [48.33],\n",
       "       [13.27],\n",
       "       [28.17],\n",
       "       [12.9 ],\n",
       "       [28.15],\n",
       "       [11.59],\n",
       "       [ 7.74],\n",
       "       [30.14],\n",
       "       [12.16],\n",
       "       [13.42],\n",
       "       [ 8.58],\n",
       "       [15.98],\n",
       "       [13.42],\n",
       "       [16.27],\n",
       "       [10.09],\n",
       "       [20.45],\n",
       "       [13.28],\n",
       "       [22.12],\n",
       "       [24.01],\n",
       "       [15.69],\n",
       "       [11.61],\n",
       "       [10.77],\n",
       "       [15.53],\n",
       "       [10.07],\n",
       "       [12.6 ],\n",
       "       [32.83],\n",
       "       [35.83],\n",
       "       [29.03],\n",
       "       [27.18],\n",
       "       [22.67],\n",
       "       [17.82],\n",
       "       [18.78]])"
      ]
     },
     "execution_count": 77,
     "metadata": {},
     "output_type": "execute_result"
    }
   ],
   "source": [
    "totalbill"
   ]
  },
  {
   "cell_type": "code",
   "execution_count": 78,
   "id": "5f2a3cd1",
   "metadata": {},
   "outputs": [],
   "source": [
    "tip=y[:,2:3]"
   ]
  },
  {
   "cell_type": "code",
   "execution_count": 79,
   "id": "0b833218",
   "metadata": {},
   "outputs": [
    {
     "data": {
      "text/plain": [
       "array([[ 1.01],\n",
       "       [ 1.66],\n",
       "       [ 3.5 ],\n",
       "       [ 3.31],\n",
       "       [ 3.61],\n",
       "       [ 4.71],\n",
       "       [ 2.  ],\n",
       "       [ 3.12],\n",
       "       [ 1.96],\n",
       "       [ 3.23],\n",
       "       [ 1.71],\n",
       "       [ 5.  ],\n",
       "       [ 1.57],\n",
       "       [ 3.  ],\n",
       "       [ 3.02],\n",
       "       [ 3.92],\n",
       "       [ 1.67],\n",
       "       [ 3.71],\n",
       "       [ 3.5 ],\n",
       "       [ 3.35],\n",
       "       [ 4.08],\n",
       "       [ 2.75],\n",
       "       [ 2.23],\n",
       "       [ 7.58],\n",
       "       [ 3.18],\n",
       "       [ 2.34],\n",
       "       [ 2.  ],\n",
       "       [ 2.  ],\n",
       "       [ 4.3 ],\n",
       "       [ 3.  ],\n",
       "       [ 1.45],\n",
       "       [ 2.5 ],\n",
       "       [ 3.  ],\n",
       "       [ 2.45],\n",
       "       [ 3.27],\n",
       "       [ 3.6 ],\n",
       "       [ 2.  ],\n",
       "       [ 3.07],\n",
       "       [ 2.31],\n",
       "       [ 5.  ],\n",
       "       [ 2.24],\n",
       "       [ 2.54],\n",
       "       [ 3.06],\n",
       "       [ 1.32],\n",
       "       [ 5.6 ],\n",
       "       [ 3.  ],\n",
       "       [ 5.  ],\n",
       "       [ 6.  ],\n",
       "       [ 2.05],\n",
       "       [ 3.  ],\n",
       "       [ 2.5 ],\n",
       "       [ 2.6 ],\n",
       "       [ 5.2 ],\n",
       "       [ 1.56],\n",
       "       [ 4.34],\n",
       "       [ 3.51],\n",
       "       [ 3.  ],\n",
       "       [ 1.5 ],\n",
       "       [ 1.76],\n",
       "       [ 6.73],\n",
       "       [ 3.21],\n",
       "       [ 2.  ],\n",
       "       [ 1.98],\n",
       "       [ 3.76],\n",
       "       [ 2.64],\n",
       "       [ 3.15],\n",
       "       [ 2.47],\n",
       "       [ 1.  ],\n",
       "       [ 2.01],\n",
       "       [ 2.09],\n",
       "       [ 1.97],\n",
       "       [ 3.  ],\n",
       "       [ 3.14],\n",
       "       [ 5.  ],\n",
       "       [ 2.2 ],\n",
       "       [ 1.25],\n",
       "       [ 3.08],\n",
       "       [ 4.  ],\n",
       "       [ 3.  ],\n",
       "       [ 2.71],\n",
       "       [ 3.  ],\n",
       "       [ 3.4 ],\n",
       "       [ 1.83],\n",
       "       [ 5.  ],\n",
       "       [ 2.03],\n",
       "       [ 5.17],\n",
       "       [ 2.  ],\n",
       "       [ 4.  ],\n",
       "       [ 5.85],\n",
       "       [ 3.  ],\n",
       "       [ 3.  ],\n",
       "       [ 3.5 ],\n",
       "       [ 1.  ],\n",
       "       [ 4.3 ],\n",
       "       [ 3.25],\n",
       "       [ 4.73],\n",
       "       [ 4.  ],\n",
       "       [ 1.5 ],\n",
       "       [ 3.  ],\n",
       "       [ 1.5 ],\n",
       "       [ 2.5 ],\n",
       "       [ 3.  ],\n",
       "       [ 2.5 ],\n",
       "       [ 3.48],\n",
       "       [ 4.08],\n",
       "       [ 1.64],\n",
       "       [ 4.06],\n",
       "       [ 4.29],\n",
       "       [ 3.76],\n",
       "       [ 4.  ],\n",
       "       [ 3.  ],\n",
       "       [ 1.  ],\n",
       "       [ 4.  ],\n",
       "       [ 2.55],\n",
       "       [ 4.  ],\n",
       "       [ 3.5 ],\n",
       "       [ 5.07],\n",
       "       [ 1.5 ],\n",
       "       [ 1.8 ],\n",
       "       [ 2.92],\n",
       "       [ 2.31],\n",
       "       [ 1.68],\n",
       "       [ 2.5 ],\n",
       "       [ 2.  ],\n",
       "       [ 2.52],\n",
       "       [ 4.2 ],\n",
       "       [ 1.48],\n",
       "       [ 2.  ],\n",
       "       [ 2.  ],\n",
       "       [ 2.18],\n",
       "       [ 1.5 ],\n",
       "       [ 2.83],\n",
       "       [ 1.5 ],\n",
       "       [ 2.  ],\n",
       "       [ 3.25],\n",
       "       [ 1.25],\n",
       "       [ 2.  ],\n",
       "       [ 2.  ],\n",
       "       [ 2.  ],\n",
       "       [ 2.75],\n",
       "       [ 3.5 ],\n",
       "       [ 6.7 ],\n",
       "       [ 5.  ],\n",
       "       [ 5.  ],\n",
       "       [ 2.3 ],\n",
       "       [ 1.5 ],\n",
       "       [ 1.36],\n",
       "       [ 1.63],\n",
       "       [ 1.73],\n",
       "       [ 2.  ],\n",
       "       [ 2.5 ],\n",
       "       [ 2.  ],\n",
       "       [ 2.74],\n",
       "       [ 2.  ],\n",
       "       [ 2.  ],\n",
       "       [ 5.14],\n",
       "       [ 5.  ],\n",
       "       [ 3.75],\n",
       "       [ 2.61],\n",
       "       [ 2.  ],\n",
       "       [ 3.5 ],\n",
       "       [ 2.5 ],\n",
       "       [ 2.  ],\n",
       "       [ 2.  ],\n",
       "       [ 3.  ],\n",
       "       [ 3.48],\n",
       "       [ 2.24],\n",
       "       [ 4.5 ],\n",
       "       [ 1.61],\n",
       "       [ 2.  ],\n",
       "       [10.  ],\n",
       "       [ 3.16],\n",
       "       [ 5.15],\n",
       "       [ 3.18],\n",
       "       [ 4.  ],\n",
       "       [ 3.11],\n",
       "       [ 2.  ],\n",
       "       [ 2.  ],\n",
       "       [ 4.  ],\n",
       "       [ 3.55],\n",
       "       [ 3.68],\n",
       "       [ 5.65],\n",
       "       [ 3.5 ],\n",
       "       [ 6.5 ],\n",
       "       [ 3.  ],\n",
       "       [ 5.  ],\n",
       "       [ 3.5 ],\n",
       "       [ 2.  ],\n",
       "       [ 3.5 ],\n",
       "       [ 4.  ],\n",
       "       [ 1.5 ],\n",
       "       [ 4.19],\n",
       "       [ 2.56],\n",
       "       [ 2.02],\n",
       "       [ 4.  ],\n",
       "       [ 1.44],\n",
       "       [ 2.  ],\n",
       "       [ 5.  ],\n",
       "       [ 2.  ],\n",
       "       [ 2.  ],\n",
       "       [ 4.  ],\n",
       "       [ 2.01],\n",
       "       [ 2.  ],\n",
       "       [ 2.5 ],\n",
       "       [ 4.  ],\n",
       "       [ 3.23],\n",
       "       [ 3.41],\n",
       "       [ 3.  ],\n",
       "       [ 2.03],\n",
       "       [ 2.23],\n",
       "       [ 2.  ],\n",
       "       [ 5.16],\n",
       "       [ 9.  ],\n",
       "       [ 2.5 ],\n",
       "       [ 6.5 ],\n",
       "       [ 1.1 ],\n",
       "       [ 3.  ],\n",
       "       [ 1.5 ],\n",
       "       [ 1.44],\n",
       "       [ 3.09],\n",
       "       [ 2.2 ],\n",
       "       [ 3.48],\n",
       "       [ 1.92],\n",
       "       [ 3.  ],\n",
       "       [ 1.58],\n",
       "       [ 2.5 ],\n",
       "       [ 2.  ],\n",
       "       [ 3.  ],\n",
       "       [ 2.72],\n",
       "       [ 2.88],\n",
       "       [ 2.  ],\n",
       "       [ 3.  ],\n",
       "       [ 3.39],\n",
       "       [ 1.47],\n",
       "       [ 3.  ],\n",
       "       [ 1.25],\n",
       "       [ 1.  ],\n",
       "       [ 1.17],\n",
       "       [ 4.67],\n",
       "       [ 5.92],\n",
       "       [ 2.  ],\n",
       "       [ 2.  ],\n",
       "       [ 1.75],\n",
       "       [ 3.  ]])"
      ]
     },
     "execution_count": 79,
     "metadata": {},
     "output_type": "execute_result"
    }
   ],
   "source": [
    "tip"
   ]
  },
  {
   "cell_type": "code",
   "execution_count": 80,
   "id": "8f81dc5a",
   "metadata": {},
   "outputs": [],
   "source": [
    "sex=y[:,3:4]"
   ]
  },
  {
   "cell_type": "code",
   "execution_count": 81,
   "id": "14b1a426",
   "metadata": {},
   "outputs": [
    {
     "data": {
      "text/plain": [
       "array([[0.],\n",
       "       [1.],\n",
       "       [1.],\n",
       "       [1.],\n",
       "       [0.],\n",
       "       [1.],\n",
       "       [1.],\n",
       "       [1.],\n",
       "       [1.],\n",
       "       [1.],\n",
       "       [1.],\n",
       "       [0.],\n",
       "       [1.],\n",
       "       [1.],\n",
       "       [0.],\n",
       "       [1.],\n",
       "       [0.],\n",
       "       [1.],\n",
       "       [0.],\n",
       "       [1.],\n",
       "       [1.],\n",
       "       [0.],\n",
       "       [0.],\n",
       "       [1.],\n",
       "       [1.],\n",
       "       [1.],\n",
       "       [1.],\n",
       "       [1.],\n",
       "       [1.],\n",
       "       [0.],\n",
       "       [1.],\n",
       "       [1.],\n",
       "       [0.],\n",
       "       [0.],\n",
       "       [1.],\n",
       "       [1.],\n",
       "       [1.],\n",
       "       [0.],\n",
       "       [1.],\n",
       "       [1.],\n",
       "       [1.],\n",
       "       [1.],\n",
       "       [1.],\n",
       "       [1.],\n",
       "       [1.],\n",
       "       [1.],\n",
       "       [1.],\n",
       "       [1.],\n",
       "       [1.],\n",
       "       [1.],\n",
       "       [1.],\n",
       "       [0.],\n",
       "       [0.],\n",
       "       [1.],\n",
       "       [1.],\n",
       "       [1.],\n",
       "       [1.],\n",
       "       [0.],\n",
       "       [1.],\n",
       "       [1.],\n",
       "       [1.],\n",
       "       [1.],\n",
       "       [1.],\n",
       "       [1.],\n",
       "       [1.],\n",
       "       [1.],\n",
       "       [0.],\n",
       "       [0.],\n",
       "       [1.],\n",
       "       [1.],\n",
       "       [1.],\n",
       "       [0.],\n",
       "       [0.],\n",
       "       [0.],\n",
       "       [0.],\n",
       "       [1.],\n",
       "       [1.],\n",
       "       [1.],\n",
       "       [1.],\n",
       "       [1.],\n",
       "       [1.],\n",
       "       [1.],\n",
       "       [0.],\n",
       "       [1.],\n",
       "       [1.],\n",
       "       [0.],\n",
       "       [1.],\n",
       "       [1.],\n",
       "       [1.],\n",
       "       [1.],\n",
       "       [1.],\n",
       "       [1.],\n",
       "       [0.],\n",
       "       [0.],\n",
       "       [0.],\n",
       "       [1.],\n",
       "       [1.],\n",
       "       [1.],\n",
       "       [1.],\n",
       "       [1.],\n",
       "       [0.],\n",
       "       [0.],\n",
       "       [0.],\n",
       "       [0.],\n",
       "       [0.],\n",
       "       [1.],\n",
       "       [1.],\n",
       "       [1.],\n",
       "       [1.],\n",
       "       [0.],\n",
       "       [1.],\n",
       "       [0.],\n",
       "       [1.],\n",
       "       [1.],\n",
       "       [0.],\n",
       "       [0.],\n",
       "       [1.],\n",
       "       [0.],\n",
       "       [0.],\n",
       "       [0.],\n",
       "       [1.],\n",
       "       [0.],\n",
       "       [1.],\n",
       "       [1.],\n",
       "       [0.],\n",
       "       [0.],\n",
       "       [1.],\n",
       "       [0.],\n",
       "       [0.],\n",
       "       [1.],\n",
       "       [1.],\n",
       "       [0.],\n",
       "       [0.],\n",
       "       [0.],\n",
       "       [0.],\n",
       "       [0.],\n",
       "       [0.],\n",
       "       [0.],\n",
       "       [1.],\n",
       "       [0.],\n",
       "       [0.],\n",
       "       [1.],\n",
       "       [1.],\n",
       "       [0.],\n",
       "       [0.],\n",
       "       [0.],\n",
       "       [0.],\n",
       "       [0.],\n",
       "       [1.],\n",
       "       [1.],\n",
       "       [1.],\n",
       "       [1.],\n",
       "       [1.],\n",
       "       [1.],\n",
       "       [1.],\n",
       "       [0.],\n",
       "       [1.],\n",
       "       [0.],\n",
       "       [0.],\n",
       "       [1.],\n",
       "       [1.],\n",
       "       [1.],\n",
       "       [0.],\n",
       "       [1.],\n",
       "       [0.],\n",
       "       [1.],\n",
       "       [1.],\n",
       "       [1.],\n",
       "       [0.],\n",
       "       [0.],\n",
       "       [1.],\n",
       "       [1.],\n",
       "       [1.],\n",
       "       [1.],\n",
       "       [1.],\n",
       "       [1.],\n",
       "       [1.],\n",
       "       [1.],\n",
       "       [0.],\n",
       "       [1.],\n",
       "       [1.],\n",
       "       [1.],\n",
       "       [1.],\n",
       "       [1.],\n",
       "       [1.],\n",
       "       [1.],\n",
       "       [0.],\n",
       "       [1.],\n",
       "       [0.],\n",
       "       [1.],\n",
       "       [1.],\n",
       "       [0.],\n",
       "       [1.],\n",
       "       [1.],\n",
       "       [1.],\n",
       "       [1.],\n",
       "       [1.],\n",
       "       [0.],\n",
       "       [0.],\n",
       "       [1.],\n",
       "       [1.],\n",
       "       [0.],\n",
       "       [0.],\n",
       "       [0.],\n",
       "       [1.],\n",
       "       [0.],\n",
       "       [1.],\n",
       "       [1.],\n",
       "       [1.],\n",
       "       [0.],\n",
       "       [1.],\n",
       "       [1.],\n",
       "       [1.],\n",
       "       [0.],\n",
       "       [0.],\n",
       "       [0.],\n",
       "       [1.],\n",
       "       [1.],\n",
       "       [1.],\n",
       "       [0.],\n",
       "       [1.],\n",
       "       [0.],\n",
       "       [1.],\n",
       "       [0.],\n",
       "       [1.],\n",
       "       [0.],\n",
       "       [0.],\n",
       "       [1.],\n",
       "       [1.],\n",
       "       [0.],\n",
       "       [1.],\n",
       "       [1.],\n",
       "       [1.],\n",
       "       [1.],\n",
       "       [1.],\n",
       "       [1.],\n",
       "       [1.],\n",
       "       [1.],\n",
       "       [0.],\n",
       "       [1.],\n",
       "       [0.],\n",
       "       [1.],\n",
       "       [1.],\n",
       "       [0.]])"
      ]
     },
     "execution_count": 81,
     "metadata": {},
     "output_type": "execute_result"
    }
   ],
   "source": [
    "sex"
   ]
  },
  {
   "cell_type": "code",
   "execution_count": 82,
   "id": "e847038c",
   "metadata": {},
   "outputs": [],
   "source": [
    "smoker=y[:,4:5]"
   ]
  },
  {
   "cell_type": "code",
   "execution_count": 83,
   "id": "d4698df0",
   "metadata": {},
   "outputs": [
    {
     "data": {
      "text/plain": [
       "array([[0.],\n",
       "       [0.],\n",
       "       [0.],\n",
       "       [0.],\n",
       "       [0.],\n",
       "       [0.],\n",
       "       [0.],\n",
       "       [0.],\n",
       "       [0.],\n",
       "       [0.],\n",
       "       [0.],\n",
       "       [0.],\n",
       "       [0.],\n",
       "       [0.],\n",
       "       [0.],\n",
       "       [0.],\n",
       "       [0.],\n",
       "       [0.],\n",
       "       [0.],\n",
       "       [0.],\n",
       "       [0.],\n",
       "       [0.],\n",
       "       [0.],\n",
       "       [0.],\n",
       "       [0.],\n",
       "       [0.],\n",
       "       [0.],\n",
       "       [0.],\n",
       "       [0.],\n",
       "       [0.],\n",
       "       [0.],\n",
       "       [0.],\n",
       "       [0.],\n",
       "       [0.],\n",
       "       [0.],\n",
       "       [0.],\n",
       "       [0.],\n",
       "       [0.],\n",
       "       [0.],\n",
       "       [0.],\n",
       "       [0.],\n",
       "       [0.],\n",
       "       [0.],\n",
       "       [0.],\n",
       "       [0.],\n",
       "       [0.],\n",
       "       [0.],\n",
       "       [0.],\n",
       "       [0.],\n",
       "       [0.],\n",
       "       [0.],\n",
       "       [0.],\n",
       "       [0.],\n",
       "       [0.],\n",
       "       [0.],\n",
       "       [0.],\n",
       "       [1.],\n",
       "       [0.],\n",
       "       [1.],\n",
       "       [0.],\n",
       "       [1.],\n",
       "       [1.],\n",
       "       [1.],\n",
       "       [1.],\n",
       "       [0.],\n",
       "       [0.],\n",
       "       [0.],\n",
       "       [1.],\n",
       "       [0.],\n",
       "       [1.],\n",
       "       [0.],\n",
       "       [0.],\n",
       "       [1.],\n",
       "       [1.],\n",
       "       [0.],\n",
       "       [0.],\n",
       "       [1.],\n",
       "       [0.],\n",
       "       [0.],\n",
       "       [0.],\n",
       "       [1.],\n",
       "       [0.],\n",
       "       [0.],\n",
       "       [1.],\n",
       "       [0.],\n",
       "       [0.],\n",
       "       [0.],\n",
       "       [0.],\n",
       "       [0.],\n",
       "       [0.],\n",
       "       [1.],\n",
       "       [0.],\n",
       "       [1.],\n",
       "       [1.],\n",
       "       [0.],\n",
       "       [1.],\n",
       "       [1.],\n",
       "       [1.],\n",
       "       [1.],\n",
       "       [0.],\n",
       "       [1.],\n",
       "       [1.],\n",
       "       [1.],\n",
       "       [1.],\n",
       "       [0.],\n",
       "       [1.],\n",
       "       [1.],\n",
       "       [1.],\n",
       "       [0.],\n",
       "       [1.],\n",
       "       [0.],\n",
       "       [0.],\n",
       "       [0.],\n",
       "       [0.],\n",
       "       [0.],\n",
       "       [0.],\n",
       "       [0.],\n",
       "       [0.],\n",
       "       [0.],\n",
       "       [0.],\n",
       "       [0.],\n",
       "       [0.],\n",
       "       [0.],\n",
       "       [0.],\n",
       "       [0.],\n",
       "       [0.],\n",
       "       [0.],\n",
       "       [0.],\n",
       "       [0.],\n",
       "       [0.],\n",
       "       [0.],\n",
       "       [0.],\n",
       "       [0.],\n",
       "       [0.],\n",
       "       [0.],\n",
       "       [0.],\n",
       "       [0.],\n",
       "       [0.],\n",
       "       [1.],\n",
       "       [0.],\n",
       "       [0.],\n",
       "       [0.],\n",
       "       [0.],\n",
       "       [0.],\n",
       "       [0.],\n",
       "       [0.],\n",
       "       [0.],\n",
       "       [0.],\n",
       "       [0.],\n",
       "       [0.],\n",
       "       [0.],\n",
       "       [0.],\n",
       "       [0.],\n",
       "       [0.],\n",
       "       [0.],\n",
       "       [0.],\n",
       "       [0.],\n",
       "       [0.],\n",
       "       [0.],\n",
       "       [0.],\n",
       "       [0.],\n",
       "       [0.],\n",
       "       [0.],\n",
       "       [0.],\n",
       "       [1.],\n",
       "       [0.],\n",
       "       [0.],\n",
       "       [0.],\n",
       "       [1.],\n",
       "       [1.],\n",
       "       [1.],\n",
       "       [1.],\n",
       "       [1.],\n",
       "       [1.],\n",
       "       [1.],\n",
       "       [1.],\n",
       "       [1.],\n",
       "       [1.],\n",
       "       [1.],\n",
       "       [1.],\n",
       "       [1.],\n",
       "       [1.],\n",
       "       [1.],\n",
       "       [1.],\n",
       "       [1.],\n",
       "       [0.],\n",
       "       [1.],\n",
       "       [1.],\n",
       "       [1.],\n",
       "       [1.],\n",
       "       [1.],\n",
       "       [1.],\n",
       "       [1.],\n",
       "       [1.],\n",
       "       [1.],\n",
       "       [0.],\n",
       "       [1.],\n",
       "       [1.],\n",
       "       [1.],\n",
       "       [1.],\n",
       "       [1.],\n",
       "       [1.],\n",
       "       [1.],\n",
       "       [1.],\n",
       "       [1.],\n",
       "       [1.],\n",
       "       [1.],\n",
       "       [1.],\n",
       "       [1.],\n",
       "       [1.],\n",
       "       [1.],\n",
       "       [1.],\n",
       "       [0.],\n",
       "       [1.],\n",
       "       [1.],\n",
       "       [1.],\n",
       "       [1.],\n",
       "       [1.],\n",
       "       [1.],\n",
       "       [1.],\n",
       "       [1.],\n",
       "       [1.],\n",
       "       [1.],\n",
       "       [0.],\n",
       "       [1.],\n",
       "       [1.],\n",
       "       [1.],\n",
       "       [0.],\n",
       "       [0.],\n",
       "       [1.],\n",
       "       [1.],\n",
       "       [1.],\n",
       "       [0.],\n",
       "       [0.],\n",
       "       [1.],\n",
       "       [0.],\n",
       "       [1.],\n",
       "       [1.],\n",
       "       [0.],\n",
       "       [0.],\n",
       "       [1.],\n",
       "       [1.],\n",
       "       [0.],\n",
       "       [0.]])"
      ]
     },
     "execution_count": 83,
     "metadata": {},
     "output_type": "execute_result"
    }
   ],
   "source": [
    "smoker"
   ]
  },
  {
   "cell_type": "code",
   "execution_count": 84,
   "id": "84240325",
   "metadata": {},
   "outputs": [],
   "source": [
    "day=y[:,5:6]"
   ]
  },
  {
   "cell_type": "code",
   "execution_count": 85,
   "id": "d310794f",
   "metadata": {},
   "outputs": [
    {
     "data": {
      "text/plain": [
       "array([[1.],\n",
       "       [1.],\n",
       "       [1.],\n",
       "       [1.],\n",
       "       [1.],\n",
       "       [1.],\n",
       "       [1.],\n",
       "       [1.],\n",
       "       [1.],\n",
       "       [1.],\n",
       "       [1.],\n",
       "       [1.],\n",
       "       [1.],\n",
       "       [1.],\n",
       "       [1.],\n",
       "       [1.],\n",
       "       [1.],\n",
       "       [1.],\n",
       "       [1.],\n",
       "       [0.],\n",
       "       [0.],\n",
       "       [0.],\n",
       "       [0.],\n",
       "       [0.],\n",
       "       [0.],\n",
       "       [0.],\n",
       "       [0.],\n",
       "       [0.],\n",
       "       [0.],\n",
       "       [0.],\n",
       "       [0.],\n",
       "       [0.],\n",
       "       [0.],\n",
       "       [0.],\n",
       "       [0.],\n",
       "       [0.],\n",
       "       [0.],\n",
       "       [0.],\n",
       "       [0.],\n",
       "       [0.],\n",
       "       [0.],\n",
       "       [1.],\n",
       "       [1.],\n",
       "       [1.],\n",
       "       [1.],\n",
       "       [1.],\n",
       "       [1.],\n",
       "       [1.],\n",
       "       [1.],\n",
       "       [1.],\n",
       "       [1.],\n",
       "       [1.],\n",
       "       [1.],\n",
       "       [1.],\n",
       "       [1.],\n",
       "       [1.],\n",
       "       [0.],\n",
       "       [0.],\n",
       "       [0.],\n",
       "       [0.],\n",
       "       [0.],\n",
       "       [0.],\n",
       "       [0.],\n",
       "       [0.],\n",
       "       [0.],\n",
       "       [0.],\n",
       "       [0.],\n",
       "       [0.],\n",
       "       [0.],\n",
       "       [0.],\n",
       "       [0.],\n",
       "       [0.],\n",
       "       [0.],\n",
       "       [0.],\n",
       "       [0.],\n",
       "       [0.],\n",
       "       [0.],\n",
       "       [2.],\n",
       "       [2.],\n",
       "       [2.],\n",
       "       [2.],\n",
       "       [2.],\n",
       "       [2.],\n",
       "       [2.],\n",
       "       [2.],\n",
       "       [2.],\n",
       "       [2.],\n",
       "       [2.],\n",
       "       [2.],\n",
       "       [2.],\n",
       "       [3.],\n",
       "       [3.],\n",
       "       [3.],\n",
       "       [3.],\n",
       "       [3.],\n",
       "       [3.],\n",
       "       [3.],\n",
       "       [3.],\n",
       "       [3.],\n",
       "       [3.],\n",
       "       [3.],\n",
       "       [3.],\n",
       "       [0.],\n",
       "       [0.],\n",
       "       [0.],\n",
       "       [0.],\n",
       "       [0.],\n",
       "       [0.],\n",
       "       [0.],\n",
       "       [0.],\n",
       "       [0.],\n",
       "       [0.],\n",
       "       [1.],\n",
       "       [1.],\n",
       "       [1.],\n",
       "       [1.],\n",
       "       [1.],\n",
       "       [2.],\n",
       "       [2.],\n",
       "       [2.],\n",
       "       [2.],\n",
       "       [2.],\n",
       "       [2.],\n",
       "       [2.],\n",
       "       [2.],\n",
       "       [2.],\n",
       "       [2.],\n",
       "       [2.],\n",
       "       [2.],\n",
       "       [2.],\n",
       "       [2.],\n",
       "       [2.],\n",
       "       [2.],\n",
       "       [2.],\n",
       "       [2.],\n",
       "       [2.],\n",
       "       [2.],\n",
       "       [2.],\n",
       "       [2.],\n",
       "       [2.],\n",
       "       [2.],\n",
       "       [2.],\n",
       "       [2.],\n",
       "       [2.],\n",
       "       [2.],\n",
       "       [2.],\n",
       "       [2.],\n",
       "       [2.],\n",
       "       [2.],\n",
       "       [2.],\n",
       "       [1.],\n",
       "       [1.],\n",
       "       [1.],\n",
       "       [1.],\n",
       "       [1.],\n",
       "       [1.],\n",
       "       [1.],\n",
       "       [1.],\n",
       "       [1.],\n",
       "       [1.],\n",
       "       [1.],\n",
       "       [1.],\n",
       "       [1.],\n",
       "       [1.],\n",
       "       [1.],\n",
       "       [1.],\n",
       "       [1.],\n",
       "       [1.],\n",
       "       [0.],\n",
       "       [0.],\n",
       "       [0.],\n",
       "       [0.],\n",
       "       [1.],\n",
       "       [1.],\n",
       "       [1.],\n",
       "       [1.],\n",
       "       [1.],\n",
       "       [1.],\n",
       "       [1.],\n",
       "       [1.],\n",
       "       [1.],\n",
       "       [1.],\n",
       "       [1.],\n",
       "       [1.],\n",
       "       [1.],\n",
       "       [1.],\n",
       "       [1.],\n",
       "       [1.],\n",
       "       [1.],\n",
       "       [1.],\n",
       "       [1.],\n",
       "       [2.],\n",
       "       [2.],\n",
       "       [2.],\n",
       "       [2.],\n",
       "       [2.],\n",
       "       [2.],\n",
       "       [2.],\n",
       "       [2.],\n",
       "       [2.],\n",
       "       [2.],\n",
       "       [2.],\n",
       "       [2.],\n",
       "       [2.],\n",
       "       [2.],\n",
       "       [2.],\n",
       "       [0.],\n",
       "       [0.],\n",
       "       [0.],\n",
       "       [0.],\n",
       "       [0.],\n",
       "       [0.],\n",
       "       [0.],\n",
       "       [0.],\n",
       "       [0.],\n",
       "       [0.],\n",
       "       [0.],\n",
       "       [0.],\n",
       "       [0.],\n",
       "       [0.],\n",
       "       [3.],\n",
       "       [3.],\n",
       "       [3.],\n",
       "       [3.],\n",
       "       [3.],\n",
       "       [3.],\n",
       "       [3.],\n",
       "       [0.],\n",
       "       [0.],\n",
       "       [0.],\n",
       "       [0.],\n",
       "       [0.],\n",
       "       [0.],\n",
       "       [0.],\n",
       "       [0.],\n",
       "       [0.],\n",
       "       [0.],\n",
       "       [0.],\n",
       "       [0.],\n",
       "       [0.],\n",
       "       [0.],\n",
       "       [0.],\n",
       "       [0.],\n",
       "       [2.]])"
      ]
     },
     "execution_count": 85,
     "metadata": {},
     "output_type": "execute_result"
    }
   ],
   "source": [
    "day"
   ]
  },
  {
   "cell_type": "code",
   "execution_count": 86,
   "id": "68c22c5e",
   "metadata": {},
   "outputs": [],
   "source": [
    "time=y[:,6:7]"
   ]
  },
  {
   "cell_type": "code",
   "execution_count": 87,
   "id": "4b6f62e5",
   "metadata": {},
   "outputs": [
    {
     "data": {
      "text/plain": [
       "array([[0.],\n",
       "       [0.],\n",
       "       [0.],\n",
       "       [0.],\n",
       "       [0.],\n",
       "       [0.],\n",
       "       [0.],\n",
       "       [0.],\n",
       "       [0.],\n",
       "       [0.],\n",
       "       [0.],\n",
       "       [0.],\n",
       "       [0.],\n",
       "       [0.],\n",
       "       [0.],\n",
       "       [0.],\n",
       "       [0.],\n",
       "       [0.],\n",
       "       [0.],\n",
       "       [0.],\n",
       "       [0.],\n",
       "       [0.],\n",
       "       [0.],\n",
       "       [0.],\n",
       "       [0.],\n",
       "       [0.],\n",
       "       [0.],\n",
       "       [0.],\n",
       "       [0.],\n",
       "       [0.],\n",
       "       [0.],\n",
       "       [0.],\n",
       "       [0.],\n",
       "       [0.],\n",
       "       [0.],\n",
       "       [0.],\n",
       "       [0.],\n",
       "       [0.],\n",
       "       [0.],\n",
       "       [0.],\n",
       "       [0.],\n",
       "       [0.],\n",
       "       [0.],\n",
       "       [0.],\n",
       "       [0.],\n",
       "       [0.],\n",
       "       [0.],\n",
       "       [0.],\n",
       "       [0.],\n",
       "       [0.],\n",
       "       [0.],\n",
       "       [0.],\n",
       "       [0.],\n",
       "       [0.],\n",
       "       [0.],\n",
       "       [0.],\n",
       "       [0.],\n",
       "       [0.],\n",
       "       [0.],\n",
       "       [0.],\n",
       "       [0.],\n",
       "       [0.],\n",
       "       [0.],\n",
       "       [0.],\n",
       "       [0.],\n",
       "       [0.],\n",
       "       [0.],\n",
       "       [0.],\n",
       "       [0.],\n",
       "       [0.],\n",
       "       [0.],\n",
       "       [0.],\n",
       "       [0.],\n",
       "       [0.],\n",
       "       [0.],\n",
       "       [0.],\n",
       "       [0.],\n",
       "       [1.],\n",
       "       [1.],\n",
       "       [1.],\n",
       "       [1.],\n",
       "       [1.],\n",
       "       [1.],\n",
       "       [1.],\n",
       "       [1.],\n",
       "       [1.],\n",
       "       [1.],\n",
       "       [1.],\n",
       "       [1.],\n",
       "       [1.],\n",
       "       [0.],\n",
       "       [0.],\n",
       "       [0.],\n",
       "       [0.],\n",
       "       [0.],\n",
       "       [0.],\n",
       "       [0.],\n",
       "       [0.],\n",
       "       [0.],\n",
       "       [0.],\n",
       "       [0.],\n",
       "       [0.],\n",
       "       [0.],\n",
       "       [0.],\n",
       "       [0.],\n",
       "       [0.],\n",
       "       [0.],\n",
       "       [0.],\n",
       "       [0.],\n",
       "       [0.],\n",
       "       [0.],\n",
       "       [0.],\n",
       "       [0.],\n",
       "       [0.],\n",
       "       [0.],\n",
       "       [0.],\n",
       "       [0.],\n",
       "       [1.],\n",
       "       [1.],\n",
       "       [1.],\n",
       "       [1.],\n",
       "       [1.],\n",
       "       [1.],\n",
       "       [1.],\n",
       "       [1.],\n",
       "       [1.],\n",
       "       [1.],\n",
       "       [1.],\n",
       "       [1.],\n",
       "       [1.],\n",
       "       [1.],\n",
       "       [1.],\n",
       "       [1.],\n",
       "       [1.],\n",
       "       [1.],\n",
       "       [1.],\n",
       "       [1.],\n",
       "       [1.],\n",
       "       [1.],\n",
       "       [1.],\n",
       "       [1.],\n",
       "       [1.],\n",
       "       [1.],\n",
       "       [1.],\n",
       "       [1.],\n",
       "       [1.],\n",
       "       [1.],\n",
       "       [1.],\n",
       "       [1.],\n",
       "       [1.],\n",
       "       [0.],\n",
       "       [0.],\n",
       "       [0.],\n",
       "       [0.],\n",
       "       [0.],\n",
       "       [0.],\n",
       "       [0.],\n",
       "       [0.],\n",
       "       [0.],\n",
       "       [0.],\n",
       "       [0.],\n",
       "       [0.],\n",
       "       [0.],\n",
       "       [0.],\n",
       "       [0.],\n",
       "       [0.],\n",
       "       [0.],\n",
       "       [0.],\n",
       "       [0.],\n",
       "       [0.],\n",
       "       [0.],\n",
       "       [0.],\n",
       "       [0.],\n",
       "       [0.],\n",
       "       [0.],\n",
       "       [0.],\n",
       "       [0.],\n",
       "       [0.],\n",
       "       [0.],\n",
       "       [0.],\n",
       "       [0.],\n",
       "       [0.],\n",
       "       [0.],\n",
       "       [0.],\n",
       "       [0.],\n",
       "       [0.],\n",
       "       [0.],\n",
       "       [0.],\n",
       "       [0.],\n",
       "       [0.],\n",
       "       [0.],\n",
       "       [1.],\n",
       "       [1.],\n",
       "       [1.],\n",
       "       [1.],\n",
       "       [1.],\n",
       "       [1.],\n",
       "       [1.],\n",
       "       [1.],\n",
       "       [1.],\n",
       "       [1.],\n",
       "       [1.],\n",
       "       [1.],\n",
       "       [1.],\n",
       "       [1.],\n",
       "       [1.],\n",
       "       [0.],\n",
       "       [0.],\n",
       "       [0.],\n",
       "       [0.],\n",
       "       [0.],\n",
       "       [0.],\n",
       "       [0.],\n",
       "       [0.],\n",
       "       [0.],\n",
       "       [0.],\n",
       "       [0.],\n",
       "       [0.],\n",
       "       [0.],\n",
       "       [0.],\n",
       "       [1.],\n",
       "       [1.],\n",
       "       [1.],\n",
       "       [1.],\n",
       "       [1.],\n",
       "       [1.],\n",
       "       [1.],\n",
       "       [0.],\n",
       "       [0.],\n",
       "       [0.],\n",
       "       [0.],\n",
       "       [0.],\n",
       "       [0.],\n",
       "       [0.],\n",
       "       [0.],\n",
       "       [0.],\n",
       "       [0.],\n",
       "       [0.],\n",
       "       [0.],\n",
       "       [0.],\n",
       "       [0.],\n",
       "       [0.],\n",
       "       [0.],\n",
       "       [0.]])"
      ]
     },
     "execution_count": 87,
     "metadata": {},
     "output_type": "execute_result"
    }
   ],
   "source": [
    "time"
   ]
  },
  {
   "cell_type": "code",
   "execution_count": 88,
   "id": "33a9db40",
   "metadata": {},
   "outputs": [],
   "source": [
    "size=y[:,7:8]"
   ]
  },
  {
   "cell_type": "code",
   "execution_count": 89,
   "id": "e97f4c18",
   "metadata": {},
   "outputs": [
    {
     "data": {
      "text/plain": [
       "array([[2.],\n",
       "       [3.],\n",
       "       [3.],\n",
       "       [2.],\n",
       "       [4.],\n",
       "       [4.],\n",
       "       [2.],\n",
       "       [4.],\n",
       "       [2.],\n",
       "       [2.],\n",
       "       [2.],\n",
       "       [4.],\n",
       "       [2.],\n",
       "       [4.],\n",
       "       [2.],\n",
       "       [2.],\n",
       "       [3.],\n",
       "       [3.],\n",
       "       [3.],\n",
       "       [3.],\n",
       "       [2.],\n",
       "       [2.],\n",
       "       [2.],\n",
       "       [4.],\n",
       "       [2.],\n",
       "       [4.],\n",
       "       [2.],\n",
       "       [2.],\n",
       "       [2.],\n",
       "       [2.],\n",
       "       [2.],\n",
       "       [4.],\n",
       "       [2.],\n",
       "       [4.],\n",
       "       [2.],\n",
       "       [3.],\n",
       "       [3.],\n",
       "       [3.],\n",
       "       [3.],\n",
       "       [3.],\n",
       "       [3.],\n",
       "       [2.],\n",
       "       [2.],\n",
       "       [2.],\n",
       "       [4.],\n",
       "       [2.],\n",
       "       [2.],\n",
       "       [4.],\n",
       "       [3.],\n",
       "       [2.],\n",
       "       [2.],\n",
       "       [2.],\n",
       "       [4.],\n",
       "       [2.],\n",
       "       [4.],\n",
       "       [2.],\n",
       "       [4.],\n",
       "       [2.],\n",
       "       [2.],\n",
       "       [4.],\n",
       "       [2.],\n",
       "       [2.],\n",
       "       [2.],\n",
       "       [4.],\n",
       "       [3.],\n",
       "       [3.],\n",
       "       [2.],\n",
       "       [1.],\n",
       "       [2.],\n",
       "       [2.],\n",
       "       [2.],\n",
       "       [3.],\n",
       "       [2.],\n",
       "       [2.],\n",
       "       [2.],\n",
       "       [2.],\n",
       "       [2.],\n",
       "       [4.],\n",
       "       [2.],\n",
       "       [2.],\n",
       "       [2.],\n",
       "       [2.],\n",
       "       [1.],\n",
       "       [2.],\n",
       "       [2.],\n",
       "       [4.],\n",
       "       [2.],\n",
       "       [2.],\n",
       "       [2.],\n",
       "       [2.],\n",
       "       [2.],\n",
       "       [2.],\n",
       "       [2.],\n",
       "       [2.],\n",
       "       [2.],\n",
       "       [4.],\n",
       "       [2.],\n",
       "       [2.],\n",
       "       [2.],\n",
       "       [2.],\n",
       "       [2.],\n",
       "       [2.],\n",
       "       [3.],\n",
       "       [2.],\n",
       "       [2.],\n",
       "       [2.],\n",
       "       [2.],\n",
       "       [2.],\n",
       "       [2.],\n",
       "       [2.],\n",
       "       [2.],\n",
       "       [1.],\n",
       "       [3.],\n",
       "       [2.],\n",
       "       [3.],\n",
       "       [2.],\n",
       "       [4.],\n",
       "       [2.],\n",
       "       [2.],\n",
       "       [4.],\n",
       "       [2.],\n",
       "       [2.],\n",
       "       [2.],\n",
       "       [2.],\n",
       "       [2.],\n",
       "       [6.],\n",
       "       [2.],\n",
       "       [2.],\n",
       "       [2.],\n",
       "       [3.],\n",
       "       [2.],\n",
       "       [2.],\n",
       "       [2.],\n",
       "       [2.],\n",
       "       [2.],\n",
       "       [2.],\n",
       "       [2.],\n",
       "       [2.],\n",
       "       [2.],\n",
       "       [2.],\n",
       "       [2.],\n",
       "       [6.],\n",
       "       [5.],\n",
       "       [6.],\n",
       "       [2.],\n",
       "       [2.],\n",
       "       [3.],\n",
       "       [2.],\n",
       "       [2.],\n",
       "       [2.],\n",
       "       [2.],\n",
       "       [2.],\n",
       "       [3.],\n",
       "       [4.],\n",
       "       [4.],\n",
       "       [5.],\n",
       "       [6.],\n",
       "       [4.],\n",
       "       [2.],\n",
       "       [4.],\n",
       "       [4.],\n",
       "       [2.],\n",
       "       [3.],\n",
       "       [2.],\n",
       "       [2.],\n",
       "       [3.],\n",
       "       [2.],\n",
       "       [4.],\n",
       "       [2.],\n",
       "       [2.],\n",
       "       [3.],\n",
       "       [2.],\n",
       "       [2.],\n",
       "       [2.],\n",
       "       [2.],\n",
       "       [2.],\n",
       "       [2.],\n",
       "       [2.],\n",
       "       [2.],\n",
       "       [2.],\n",
       "       [4.],\n",
       "       [2.],\n",
       "       [3.],\n",
       "       [4.],\n",
       "       [2.],\n",
       "       [5.],\n",
       "       [3.],\n",
       "       [5.],\n",
       "       [3.],\n",
       "       [3.],\n",
       "       [2.],\n",
       "       [2.],\n",
       "       [2.],\n",
       "       [2.],\n",
       "       [2.],\n",
       "       [2.],\n",
       "       [2.],\n",
       "       [4.],\n",
       "       [2.],\n",
       "       [2.],\n",
       "       [3.],\n",
       "       [2.],\n",
       "       [2.],\n",
       "       [2.],\n",
       "       [4.],\n",
       "       [3.],\n",
       "       [3.],\n",
       "       [4.],\n",
       "       [2.],\n",
       "       [2.],\n",
       "       [3.],\n",
       "       [4.],\n",
       "       [4.],\n",
       "       [2.],\n",
       "       [3.],\n",
       "       [2.],\n",
       "       [5.],\n",
       "       [2.],\n",
       "       [2.],\n",
       "       [4.],\n",
       "       [2.],\n",
       "       [2.],\n",
       "       [1.],\n",
       "       [3.],\n",
       "       [2.],\n",
       "       [2.],\n",
       "       [2.],\n",
       "       [4.],\n",
       "       [2.],\n",
       "       [2.],\n",
       "       [4.],\n",
       "       [3.],\n",
       "       [2.],\n",
       "       [2.],\n",
       "       [2.],\n",
       "       [2.],\n",
       "       [2.],\n",
       "       [2.],\n",
       "       [3.],\n",
       "       [3.],\n",
       "       [2.],\n",
       "       [2.],\n",
       "       [2.],\n",
       "       [2.]])"
      ]
     },
     "execution_count": 89,
     "metadata": {},
     "output_type": "execute_result"
    }
   ],
   "source": [
    "size"
   ]
  },
  {
   "cell_type": "code",
   "execution_count": 90,
   "id": "eedfa8fd",
   "metadata": {},
   "outputs": [],
   "source": [
    "#1. what is the total bill value \n",
    "a=np.sum(totalbill)"
   ]
  },
  {
   "cell_type": "code",
   "execution_count": 91,
   "id": "491699de",
   "metadata": {},
   "outputs": [
    {
     "data": {
      "text/plain": [
       "4827.77"
      ]
     },
     "execution_count": 91,
     "metadata": {},
     "output_type": "execute_result"
    }
   ],
   "source": [
    "a"
   ]
  },
  {
   "cell_type": "code",
   "execution_count": 92,
   "id": "5abb8dbc",
   "metadata": {},
   "outputs": [],
   "source": [
    "#2. What is the total tip value\n",
    "b=np.sum(tip)"
   ]
  },
  {
   "cell_type": "code",
   "execution_count": 93,
   "id": "a50e3040",
   "metadata": {},
   "outputs": [
    {
     "data": {
      "text/plain": [
       "731.5799999999999"
      ]
     },
     "execution_count": 93,
     "metadata": {},
     "output_type": "execute_result"
    }
   ],
   "source": [
    "b"
   ]
  },
  {
   "cell_type": "code",
   "execution_count": 94,
   "id": "72a89e5e",
   "metadata": {},
   "outputs": [
    {
     "data": {
      "text/plain": [
       "(array([1.41747500e-02, 2.83495000e-02, 4.25242500e-02, ...,\n",
       "        2.34592112e+01, 2.52735793e+01, 2.61240642e+01]),\n",
       " array([4, 1, 3, ..., 1, 1, 1], dtype=int64))"
      ]
     },
     "execution_count": 94,
     "metadata": {},
     "output_type": "execute_result"
    }
   ],
   "source": [
    "#3.count how many sunday,saturday,thursday,friday are there\n",
    "days=w[:,5]\n",
    "x=np.unique(days,return_counts=True)\n",
    "x"
   ]
  },
  {
   "cell_type": "code",
   "execution_count": 95,
   "id": "a1b07466",
   "metadata": {},
   "outputs": [
    {
     "data": {
      "text/plain": [
       "93.0"
      ]
     },
     "execution_count": 95,
     "metadata": {},
     "output_type": "execute_result"
    }
   ],
   "source": [
    "#4. how many smokers are there\n",
    "np.sum(smoker)"
   ]
  },
  {
   "cell_type": "code",
   "execution_count": 96,
   "id": "46616d6f",
   "metadata": {},
   "outputs": [
    {
     "data": {
      "text/plain": [
       "2.99827868852459"
      ]
     },
     "execution_count": 96,
     "metadata": {},
     "output_type": "execute_result"
    }
   ],
   "source": [
    "#5. Whatis the average tip given by female and male\n",
    "np.average(tip)"
   ]
  },
  {
   "cell_type": "code",
   "execution_count": 97,
   "id": "826c1cf5",
   "metadata": {},
   "outputs": [
    {
     "data": {
      "text/plain": [
       "2779.675"
      ]
     },
     "execution_count": 97,
     "metadata": {},
     "output_type": "execute_result"
    }
   ],
   "source": [
    "#6. How much amount spendby male female\n",
    "(a+b)/2"
   ]
  },
  {
   "cell_type": "code",
   "execution_count": 98,
   "id": "8433c80e",
   "metadata": {},
   "outputs": [
    {
     "data": {
      "text/plain": [
       "10.0"
      ]
     },
     "execution_count": 98,
     "metadata": {},
     "output_type": "execute_result"
    }
   ],
   "source": [
    "#7. what is the max and min tip given\n",
    "np.max(tip)"
   ]
  },
  {
   "cell_type": "code",
   "execution_count": 99,
   "id": "7f880ada",
   "metadata": {},
   "outputs": [
    {
     "data": {
      "text/plain": [
       "1.0"
      ]
     },
     "execution_count": 99,
     "metadata": {},
     "output_type": "execute_result"
    }
   ],
   "source": [
    "np.min(tip)"
   ]
  },
  {
   "cell_type": "code",
   "execution_count": 100,
   "id": "988ecbcc",
   "metadata": {},
   "outputs": [
    {
     "data": {
      "text/plain": [
       "244"
      ]
     },
     "execution_count": 100,
     "metadata": {},
     "output_type": "execute_result"
    }
   ],
   "source": [
    "#8. how many male and female going for dinner and lunch\n",
    "len(sex)"
   ]
  },
  {
   "cell_type": "code",
   "execution_count": 101,
   "id": "d490cc34",
   "metadata": {},
   "outputs": [
    {
     "data": {
      "text/plain": [
       "2.569672131147541"
      ]
     },
     "execution_count": 101,
     "metadata": {},
     "output_type": "execute_result"
    }
   ],
   "source": [
    "#9. Find out the average size\n",
    "np.average(size)"
   ]
  },
  {
   "cell_type": "code",
   "execution_count": 102,
   "id": "c892efa1",
   "metadata": {},
   "outputs": [],
   "source": [
    "#10. how many male smokers and female smokers are there\n",
    "male=len(sex)-np.sum(sex)"
   ]
  },
  {
   "cell_type": "code",
   "execution_count": 103,
   "id": "fe3d1a0d",
   "metadata": {},
   "outputs": [
    {
     "data": {
      "text/plain": [
       "87.0"
      ]
     },
     "execution_count": 103,
     "metadata": {},
     "output_type": "execute_result"
    }
   ],
   "source": [
    "male"
   ]
  },
  {
   "cell_type": "code",
   "execution_count": 104,
   "id": "6a3c8646",
   "metadata": {},
   "outputs": [],
   "source": [
    "female=len(sex)-male"
   ]
  },
  {
   "cell_type": "code",
   "execution_count": 105,
   "id": "270bdd50",
   "metadata": {},
   "outputs": [
    {
     "data": {
      "text/plain": [
       "157.0"
      ]
     },
     "execution_count": 105,
     "metadata": {},
     "output_type": "execute_result"
    }
   ],
   "source": [
    "female"
   ]
  },
  {
   "cell_type": "code",
   "execution_count": null,
   "id": "4d0f4bc6",
   "metadata": {},
   "outputs": [],
   "source": []
  },
  {
   "cell_type": "code",
   "execution_count": null,
   "id": "a2cafbbb",
   "metadata": {},
   "outputs": [],
   "source": []
  },
  {
   "cell_type": "code",
   "execution_count": null,
   "id": "372d371d",
   "metadata": {},
   "outputs": [],
   "source": []
  },
  {
   "cell_type": "code",
   "execution_count": null,
   "id": "d763652c",
   "metadata": {},
   "outputs": [],
   "source": []
  }
 ],
 "metadata": {
  "kernelspec": {
   "display_name": "Python 3 (ipykernel)",
   "language": "python",
   "name": "python3"
  },
  "language_info": {
   "codemirror_mode": {
    "name": "ipython",
    "version": 3
   },
   "file_extension": ".py",
   "mimetype": "text/x-python",
   "name": "python",
   "nbconvert_exporter": "python",
   "pygments_lexer": "ipython3",
   "version": "3.11.3"
  }
 },
 "nbformat": 4,
 "nbformat_minor": 5
}
