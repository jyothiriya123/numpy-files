{
 "cells": [
  {
   "cell_type": "code",
   "execution_count": 231,
   "id": "eaf11f19",
   "metadata": {},
   "outputs": [],
   "source": [
    "#1) Write a program to create a 5 dimensional array with all zeros and ones"
   ]
  },
  {
   "cell_type": "code",
   "execution_count": 232,
   "id": "a40ca97d",
   "metadata": {},
   "outputs": [],
   "source": [
    "import numpy as np "
   ]
  },
  {
   "cell_type": "code",
   "execution_count": 233,
   "id": "10110121",
   "metadata": {},
   "outputs": [],
   "source": [
    "y=np.zeros((2,1,4,2,3),dtype=int)"
   ]
  },
  {
   "cell_type": "code",
   "execution_count": 234,
   "id": "55a083fa",
   "metadata": {},
   "outputs": [
    {
     "data": {
      "text/plain": [
       "array([[[[[0, 0, 0],\n",
       "          [0, 0, 0]],\n",
       "\n",
       "         [[0, 0, 0],\n",
       "          [0, 0, 0]],\n",
       "\n",
       "         [[0, 0, 0],\n",
       "          [0, 0, 0]],\n",
       "\n",
       "         [[0, 0, 0],\n",
       "          [0, 0, 0]]]],\n",
       "\n",
       "\n",
       "\n",
       "       [[[[0, 0, 0],\n",
       "          [0, 0, 0]],\n",
       "\n",
       "         [[0, 0, 0],\n",
       "          [0, 0, 0]],\n",
       "\n",
       "         [[0, 0, 0],\n",
       "          [0, 0, 0]],\n",
       "\n",
       "         [[0, 0, 0],\n",
       "          [0, 0, 0]]]]])"
      ]
     },
     "execution_count": 234,
     "metadata": {},
     "output_type": "execute_result"
    }
   ],
   "source": [
    "y"
   ]
  },
  {
   "cell_type": "code",
   "execution_count": 235,
   "id": "35e8a634",
   "metadata": {},
   "outputs": [],
   "source": [
    "#ones"
   ]
  },
  {
   "cell_type": "code",
   "execution_count": 236,
   "id": "4bbf9b04",
   "metadata": {},
   "outputs": [],
   "source": [
    "w=np.ones((2,1,4,2,3),dtype=int)"
   ]
  },
  {
   "cell_type": "code",
   "execution_count": 237,
   "id": "808c0cfb",
   "metadata": {},
   "outputs": [
    {
     "data": {
      "text/plain": [
       "array([[[[[1, 1, 1],\n",
       "          [1, 1, 1]],\n",
       "\n",
       "         [[1, 1, 1],\n",
       "          [1, 1, 1]],\n",
       "\n",
       "         [[1, 1, 1],\n",
       "          [1, 1, 1]],\n",
       "\n",
       "         [[1, 1, 1],\n",
       "          [1, 1, 1]]]],\n",
       "\n",
       "\n",
       "\n",
       "       [[[[1, 1, 1],\n",
       "          [1, 1, 1]],\n",
       "\n",
       "         [[1, 1, 1],\n",
       "          [1, 1, 1]],\n",
       "\n",
       "         [[1, 1, 1],\n",
       "          [1, 1, 1]],\n",
       "\n",
       "         [[1, 1, 1],\n",
       "          [1, 1, 1]]]]])"
      ]
     },
     "execution_count": 237,
     "metadata": {},
     "output_type": "execute_result"
    }
   ],
   "source": [
    "w"
   ]
  },
  {
   "cell_type": "code",
   "execution_count": 238,
   "id": "4873f23d",
   "metadata": {},
   "outputs": [],
   "source": [
    "#2) Write a program to create an array of 10 zeros,10 ones, and 10 fives in row 1 2 and 3 which create a new array of shape (3,10)"
   ]
  },
  {
   "cell_type": "code",
   "execution_count": 239,
   "id": "6f87348d",
   "metadata": {},
   "outputs": [],
   "source": [
    "import numpy as np"
   ]
  },
  {
   "cell_type": "code",
   "execution_count": 240,
   "id": "855d3587",
   "metadata": {},
   "outputs": [],
   "source": [
    "x=np.array([np.zeros(10),np.ones(10),np.full(10,5)])"
   ]
  },
  {
   "cell_type": "code",
   "execution_count": 241,
   "id": "b1b1158c",
   "metadata": {},
   "outputs": [
    {
     "data": {
      "text/plain": [
       "array([[0., 0., 0., 0., 0., 0., 0., 0., 0., 0.],\n",
       "       [1., 1., 1., 1., 1., 1., 1., 1., 1., 1.],\n",
       "       [5., 5., 5., 5., 5., 5., 5., 5., 5., 5.]])"
      ]
     },
     "execution_count": 241,
     "metadata": {},
     "output_type": "execute_result"
    }
   ],
   "source": [
    "x"
   ]
  },
  {
   "cell_type": "code",
   "execution_count": 242,
   "id": "e78dd0b0",
   "metadata": {},
   "outputs": [],
   "source": [
    "#3) Write a program to create a 3x4 matrix filled with values from 10 to 21."
   ]
  },
  {
   "cell_type": "code",
   "execution_count": 243,
   "id": "96e23996",
   "metadata": {},
   "outputs": [],
   "source": [
    "w=np.arange(10,22).reshape(3,4)"
   ]
  },
  {
   "cell_type": "code",
   "execution_count": 244,
   "id": "01433a52",
   "metadata": {},
   "outputs": [
    {
     "data": {
      "text/plain": [
       "array([[10, 11, 12, 13],\n",
       "       [14, 15, 16, 17],\n",
       "       [18, 19, 20, 21]])"
      ]
     },
     "execution_count": 244,
     "metadata": {},
     "output_type": "execute_result"
    }
   ],
   "source": [
    "w"
   ]
  },
  {
   "cell_type": "code",
   "execution_count": 245,
   "id": "727a9761",
   "metadata": {},
   "outputs": [],
   "source": [
    "#4) Write a  program to create a 10x10 zero matrix with elements on the main diagonal equal to 0,1,2,3,4,5,6,7,8,9,"
   ]
  },
  {
   "cell_type": "code",
   "execution_count": 246,
   "id": "85980213",
   "metadata": {},
   "outputs": [],
   "source": [
    "x=np.diag([0,1,2,3,4,5,6,7,8,9])"
   ]
  },
  {
   "cell_type": "code",
   "execution_count": 247,
   "id": "aed8e4df",
   "metadata": {},
   "outputs": [
    {
     "data": {
      "text/plain": [
       "array([[0, 0, 0, 0, 0, 0, 0, 0, 0, 0],\n",
       "       [0, 1, 0, 0, 0, 0, 0, 0, 0, 0],\n",
       "       [0, 0, 2, 0, 0, 0, 0, 0, 0, 0],\n",
       "       [0, 0, 0, 3, 0, 0, 0, 0, 0, 0],\n",
       "       [0, 0, 0, 0, 4, 0, 0, 0, 0, 0],\n",
       "       [0, 0, 0, 0, 0, 5, 0, 0, 0, 0],\n",
       "       [0, 0, 0, 0, 0, 0, 6, 0, 0, 0],\n",
       "       [0, 0, 0, 0, 0, 0, 0, 7, 0, 0],\n",
       "       [0, 0, 0, 0, 0, 0, 0, 0, 8, 0],\n",
       "       [0, 0, 0, 0, 0, 0, 0, 0, 0, 9]])"
      ]
     },
     "execution_count": 247,
     "metadata": {},
     "output_type": "execute_result"
    }
   ],
   "source": [
    "x"
   ]
  },
  {
   "cell_type": "code",
   "execution_count": 248,
   "id": "02a8a4ad",
   "metadata": {},
   "outputs": [],
   "source": [
    "#5) Write a program to create a 4x4 array. Create an array from below array by swapping first and last, second and third columns."
   ]
  },
  {
   "cell_type": "code",
   "execution_count": 249,
   "id": "fca24da9",
   "metadata": {},
   "outputs": [],
   "source": [
    "x=np.array([[1,2,3,4,],[5,6,7,8],[9,10,11,12],[13,14,15,16]])"
   ]
  },
  {
   "cell_type": "code",
   "execution_count": 250,
   "id": "894e7185",
   "metadata": {},
   "outputs": [
    {
     "data": {
      "text/plain": [
       "array([[ 1,  2,  3,  4],\n",
       "       [ 5,  6,  7,  8],\n",
       "       [ 9, 10, 11, 12],\n",
       "       [13, 14, 15, 16]])"
      ]
     },
     "execution_count": 250,
     "metadata": {},
     "output_type": "execute_result"
    }
   ],
   "source": [
    "x"
   ]
  },
  {
   "cell_type": "code",
   "execution_count": 251,
   "id": "aea28bdd",
   "metadata": {},
   "outputs": [
    {
     "data": {
      "text/plain": [
       "array([[13, 14, 15, 16],\n",
       "       [ 9, 10, 11, 12],\n",
       "       [ 5,  6,  7,  8],\n",
       "       [ 1,  2,  3,  4]])"
      ]
     },
     "execution_count": 251,
     "metadata": {},
     "output_type": "execute_result"
    }
   ],
   "source": [
    "x[::-1,::]"
   ]
  },
  {
   "cell_type": "code",
   "execution_count": 252,
   "id": "941afce5",
   "metadata": {},
   "outputs": [],
   "source": [
    "#6) Write a program to reverse an array (the first element becomes the last)"
   ]
  },
  {
   "cell_type": "code",
   "execution_count": 253,
   "id": "1bc514f3",
   "metadata": {},
   "outputs": [],
   "source": [
    "x=np.arange(12,28)"
   ]
  },
  {
   "cell_type": "code",
   "execution_count": 254,
   "id": "725a3037",
   "metadata": {},
   "outputs": [
    {
     "data": {
      "text/plain": [
       "array([12, 13, 14, 15, 16, 17, 18, 19, 20, 21, 22, 23, 24, 25, 26, 27])"
      ]
     },
     "execution_count": 254,
     "metadata": {},
     "output_type": "execute_result"
    }
   ],
   "source": [
    "x"
   ]
  },
  {
   "cell_type": "code",
   "execution_count": 255,
   "id": "5ec4033f",
   "metadata": {},
   "outputs": [
    {
     "data": {
      "text/plain": [
       "array([27, 26, 25, 24, 23, 22, 21, 20, 19, 18, 17, 16, 15, 14, 13, 12])"
      ]
     },
     "execution_count": 255,
     "metadata": {},
     "output_type": "execute_result"
    }
   ],
   "source": [
    "x[::-1]"
   ]
  },
  {
   "cell_type": "code",
   "execution_count": 256,
   "id": "eaf0ce92",
   "metadata": {},
   "outputs": [],
   "source": [
    "#7) Write a program to access all the elements greater than 30 and less than 80 and multiples of 5 from an array of shape 10,10 .Elements range from 1 to 100"
   ]
  },
  {
   "cell_type": "code",
   "execution_count": 257,
   "id": "1aaaf910",
   "metadata": {},
   "outputs": [],
   "source": [
    "x=np.arange(1,101).reshape(10,10)"
   ]
  },
  {
   "cell_type": "code",
   "execution_count": 258,
   "id": "5da836ba",
   "metadata": {},
   "outputs": [],
   "source": [
    "w=x[(x>30)&(x<80)&(x%5==0)]"
   ]
  },
  {
   "cell_type": "code",
   "execution_count": 259,
   "id": "6d1a059e",
   "metadata": {},
   "outputs": [
    {
     "data": {
      "text/plain": [
       "array([35, 40, 45, 50, 55, 60, 65, 70, 75])"
      ]
     },
     "execution_count": 259,
     "metadata": {},
     "output_type": "execute_result"
    }
   ],
   "source": [
    "w"
   ]
  },
  {
   "cell_type": "code",
   "execution_count": 260,
   "id": "3bad0799",
   "metadata": {},
   "outputs": [],
   "source": [
    "#8) Write a program to create a 2D array with 1 on the border and 0 inside."
   ]
  },
  {
   "cell_type": "code",
   "execution_count": 261,
   "id": "2cebd0e4",
   "metadata": {},
   "outputs": [],
   "source": [
    "x=np.ones((4,5))"
   ]
  },
  {
   "cell_type": "code",
   "execution_count": 262,
   "id": "1e6e4dab",
   "metadata": {},
   "outputs": [
    {
     "data": {
      "text/plain": [
       "array([[1., 1., 1., 1., 1.],\n",
       "       [1., 1., 1., 1., 1.],\n",
       "       [1., 1., 1., 1., 1.],\n",
       "       [1., 1., 1., 1., 1.]])"
      ]
     },
     "execution_count": 262,
     "metadata": {},
     "output_type": "execute_result"
    }
   ],
   "source": [
    "x"
   ]
  },
  {
   "cell_type": "code",
   "execution_count": 263,
   "id": "dfa16b54",
   "metadata": {},
   "outputs": [],
   "source": [
    "x[1:-1,1:-1]=0"
   ]
  },
  {
   "cell_type": "code",
   "execution_count": 264,
   "id": "3033b4cc",
   "metadata": {},
   "outputs": [
    {
     "data": {
      "text/plain": [
       "array([[1., 1., 1., 1., 1.],\n",
       "       [1., 0., 0., 0., 1.],\n",
       "       [1., 0., 0., 0., 1.],\n",
       "       [1., 1., 1., 1., 1.]])"
      ]
     },
     "execution_count": 264,
     "metadata": {},
     "output_type": "execute_result"
    }
   ],
   "source": [
    "x"
   ]
  },
  {
   "cell_type": "code",
   "execution_count": 265,
   "id": "eb0b332a",
   "metadata": {},
   "outputs": [],
   "source": [
    "#9) Write a program to create a checkerboard pattern .Don't use default array function"
   ]
  },
  {
   "cell_type": "code",
   "execution_count": 266,
   "id": "3341291f",
   "metadata": {},
   "outputs": [
    {
     "name": "stdout",
     "output_type": "stream",
     "text": [
      "checkerboard: \n",
      "\n"
     ]
    }
   ],
   "source": [
    "print(\"checkerboard: \\n\")\n",
    "c=np.ones((8,8),dtype=int)"
   ]
  },
  {
   "cell_type": "code",
   "execution_count": 267,
   "id": "76cb3509",
   "metadata": {},
   "outputs": [
    {
     "data": {
      "text/plain": [
       "array([[1, 1, 1, 1, 1, 1, 1, 1],\n",
       "       [1, 1, 1, 1, 1, 1, 1, 1],\n",
       "       [1, 1, 1, 1, 1, 1, 1, 1],\n",
       "       [1, 1, 1, 1, 1, 1, 1, 1],\n",
       "       [1, 1, 1, 1, 1, 1, 1, 1],\n",
       "       [1, 1, 1, 1, 1, 1, 1, 1],\n",
       "       [1, 1, 1, 1, 1, 1, 1, 1],\n",
       "       [1, 1, 1, 1, 1, 1, 1, 1]])"
      ]
     },
     "execution_count": 267,
     "metadata": {},
     "output_type": "execute_result"
    }
   ],
   "source": [
    "c"
   ]
  },
  {
   "cell_type": "code",
   "execution_count": 268,
   "id": "4b806777",
   "metadata": {},
   "outputs": [],
   "source": [
    "c[1::2,::2]=0\n",
    "c[::2,1::2]=0"
   ]
  },
  {
   "cell_type": "code",
   "execution_count": 269,
   "id": "9656bc05",
   "metadata": {},
   "outputs": [
    {
     "data": {
      "text/plain": [
       "array([[1, 0, 1, 0, 1, 0, 1, 0],\n",
       "       [0, 1, 0, 1, 0, 1, 0, 1],\n",
       "       [1, 0, 1, 0, 1, 0, 1, 0],\n",
       "       [0, 1, 0, 1, 0, 1, 0, 1],\n",
       "       [1, 0, 1, 0, 1, 0, 1, 0],\n",
       "       [0, 1, 0, 1, 0, 1, 0, 1],\n",
       "       [1, 0, 1, 0, 1, 0, 1, 0],\n",
       "       [0, 1, 0, 1, 0, 1, 0, 1]])"
      ]
     },
     "execution_count": 269,
     "metadata": {},
     "output_type": "execute_result"
    }
   ],
   "source": [
    "c"
   ]
  },
  {
   "cell_type": "code",
   "execution_count": 270,
   "id": "025cc8b7",
   "metadata": {},
   "outputs": [],
   "source": [
    "#10) Write a program to find common values between two arrays."
   ]
  },
  {
   "cell_type": "code",
   "execution_count": 271,
   "id": "59af0118",
   "metadata": {},
   "outputs": [
    {
     "data": {
      "text/plain": [
       "array([10, 40])"
      ]
     },
     "execution_count": 271,
     "metadata": {},
     "output_type": "execute_result"
    }
   ],
   "source": [
    "i=0\n",
    "w=np.array([10,20,40,60])\n",
    "z=np.array([10,30,40,50])\n",
    "np.intersect1d(z,w)"
   ]
  },
  {
   "cell_type": "code",
   "execution_count": 272,
   "id": "72e7256e",
   "metadata": {},
   "outputs": [],
   "source": [
    "#11) Write a program to create an array 2d array and then reshape into 1d array"
   ]
  },
  {
   "cell_type": "code",
   "execution_count": 273,
   "id": "d54b348a",
   "metadata": {},
   "outputs": [],
   "source": [
    "x=np.arange(1,5).reshape(2,2)"
   ]
  },
  {
   "cell_type": "code",
   "execution_count": 274,
   "id": "66656b42",
   "metadata": {},
   "outputs": [
    {
     "data": {
      "text/plain": [
       "array([[1, 2],\n",
       "       [3, 4]])"
      ]
     },
     "execution_count": 274,
     "metadata": {},
     "output_type": "execute_result"
    }
   ],
   "source": [
    "x"
   ]
  },
  {
   "cell_type": "code",
   "execution_count": 275,
   "id": "f7807af2",
   "metadata": {},
   "outputs": [
    {
     "data": {
      "text/plain": [
       "array([1, 2, 3, 4])"
      ]
     },
     "execution_count": 275,
     "metadata": {},
     "output_type": "execute_result"
    }
   ],
   "source": [
    "x.flatten()"
   ]
  },
  {
   "cell_type": "code",
   "execution_count": 276,
   "id": "e6955da7",
   "metadata": {},
   "outputs": [],
   "source": [
    "#12) Write a user defined function for creating a 1 or 2d array from scratch without using array functions"
   ]
  },
  {
   "cell_type": "code",
   "execution_count": 282,
   "id": "261dc940",
   "metadata": {},
   "outputs": [
    {
     "name": "stdout",
     "output_type": "stream",
     "text": [
      "enter no of elements: 4\n",
      "enter the element: 7\n",
      "enter the element: 6\n",
      "enter the element: 5\n",
      "enter the element: 4\n",
      "['7', '6', '5', '4']\n",
      "enter the dimention: 2\n",
      "array([[7]\n",
      "     [6]\n",
      "     [5]\n",
      "       [4]\n",
      "])\n"
     ]
    }
   ],
   "source": [
    "def array_2d(x):\n",
    "    n=int(input(\"enter the dimention: \"))\n",
    "    s=len(x)\n",
    "    if n==1:\n",
    "        print(\"array({})\".format(x))\n",
    "    elif n==2:\n",
    "        print(\"array([\",end=\"\")\n",
    "        print(\"[{}]\".format(x[0]))\n",
    "        for y in range(1,s-1):\n",
    "            print(\"     [{}]\".format(x[y]))\n",
    "        for y in range(s-1,s):\n",
    "            print(\"       [{}]\".format(x[y],end=\"\"))\n",
    "            print(\"])\")\n",
    "l=[]\n",
    "k=int(input(\"enter no of elements: \"))\n",
    "for i in range(k):\n",
    "    a=input(\"enter the element: \")\n",
    "    l.append(a)\n",
    "print(l)\n",
    "array_2d(l)"
   ]
  },
  {
   "cell_type": "code",
   "execution_count": null,
   "id": "e5b780e1",
   "metadata": {},
   "outputs": [],
   "source": []
  },
  {
   "cell_type": "code",
   "execution_count": null,
   "id": "47d1f295",
   "metadata": {},
   "outputs": [],
   "source": []
  },
  {
   "cell_type": "code",
   "execution_count": null,
   "id": "c1f4c7d3",
   "metadata": {},
   "outputs": [],
   "source": []
  }
 ],
 "metadata": {
  "kernelspec": {
   "display_name": "Python 3 (ipykernel)",
   "language": "python",
   "name": "python3"
  },
  "language_info": {
   "codemirror_mode": {
    "name": "ipython",
    "version": 3
   },
   "file_extension": ".py",
   "mimetype": "text/x-python",
   "name": "python",
   "nbconvert_exporter": "python",
   "pygments_lexer": "ipython3",
   "version": "3.11.3"
  }
 },
 "nbformat": 4,
 "nbformat_minor": 5
}
