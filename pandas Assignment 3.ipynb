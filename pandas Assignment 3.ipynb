{
 "cells": [
  {
   "cell_type": "code",
   "execution_count": 4,
   "id": "32b1b685",
   "metadata": {},
   "outputs": [],
   "source": [
    "import numpy as np\n",
    "import pandas as pd"
   ]
  },
  {
   "cell_type": "code",
   "execution_count": 6,
   "id": "93dd1de3",
   "metadata": {},
   "outputs": [],
   "source": [
    "data=pd.read_csv(r\"C:\\Users\\user\\Downloads\\all_grains_data.csv\")"
   ]
  },
  {
   "cell_type": "code",
   "execution_count": 7,
   "id": "f1ca973b",
   "metadata": {},
   "outputs": [],
   "source": [
    "#1. Which commodity was having the highest opening price for the day\n",
    "g=data.groupby(\"commodity\")"
   ]
  },
  {
   "cell_type": "code",
   "execution_count": 8,
   "id": "08667d9f",
   "metadata": {},
   "outputs": [
    {
     "data": {
      "text/html": [
       "<div>\n",
       "<style scoped>\n",
       "    .dataframe tbody tr th:only-of-type {\n",
       "        vertical-align: middle;\n",
       "    }\n",
       "\n",
       "    .dataframe tbody tr th {\n",
       "        vertical-align: top;\n",
       "    }\n",
       "\n",
       "    .dataframe thead th {\n",
       "        text-align: right;\n",
       "    }\n",
       "</style>\n",
       "<table border=\"1\" class=\"dataframe\">\n",
       "  <thead>\n",
       "    <tr style=\"text-align: right;\">\n",
       "      <th></th>\n",
       "      <th>open</th>\n",
       "      <th>date</th>\n",
       "    </tr>\n",
       "    <tr>\n",
       "      <th>commodity</th>\n",
       "      <th></th>\n",
       "      <th></th>\n",
       "    </tr>\n",
       "  </thead>\n",
       "  <tbody>\n",
       "    <tr>\n",
       "      <th>Corn</th>\n",
       "      <td>830.25</td>\n",
       "      <td>2023-09-15</td>\n",
       "    </tr>\n",
       "    <tr>\n",
       "      <th>KC HRW Wheat</th>\n",
       "      <td>1370.50</td>\n",
       "      <td>2023-09-15</td>\n",
       "    </tr>\n",
       "    <tr>\n",
       "      <th>Oat</th>\n",
       "      <td>803.00</td>\n",
       "      <td>2023-09-15</td>\n",
       "    </tr>\n",
       "    <tr>\n",
       "      <th>Rough Rice</th>\n",
       "      <td>2435.00</td>\n",
       "      <td>2023-09-15</td>\n",
       "    </tr>\n",
       "    <tr>\n",
       "      <th>Soybean</th>\n",
       "      <td>1778.50</td>\n",
       "      <td>2023-09-15</td>\n",
       "    </tr>\n",
       "    <tr>\n",
       "      <th>Soybean Oil</th>\n",
       "      <td>90.50</td>\n",
       "      <td>2023-09-15</td>\n",
       "    </tr>\n",
       "  </tbody>\n",
       "</table>\n",
       "</div>"
      ],
      "text/plain": [
       "                 open        date\n",
       "commodity                        \n",
       "Corn           830.25  2023-09-15\n",
       "KC HRW Wheat  1370.50  2023-09-15\n",
       "Oat            803.00  2023-09-15\n",
       "Rough Rice    2435.00  2023-09-15\n",
       "Soybean       1778.50  2023-09-15\n",
       "Soybean Oil     90.50  2023-09-15"
      ]
     },
     "execution_count": 8,
     "metadata": {},
     "output_type": "execute_result"
    }
   ],
   "source": [
    "g[[\"open\",\"date\"]].max()"
   ]
  },
  {
   "cell_type": "code",
   "execution_count": 9,
   "id": "b8f151bb",
   "metadata": {},
   "outputs": [
    {
     "data": {
      "text/html": [
       "<div>\n",
       "<style scoped>\n",
       "    .dataframe tbody tr th:only-of-type {\n",
       "        vertical-align: middle;\n",
       "    }\n",
       "\n",
       "    .dataframe tbody tr th {\n",
       "        vertical-align: top;\n",
       "    }\n",
       "\n",
       "    .dataframe thead th {\n",
       "        text-align: right;\n",
       "    }\n",
       "</style>\n",
       "<table border=\"1\" class=\"dataframe\">\n",
       "  <thead>\n",
       "    <tr style=\"text-align: right;\">\n",
       "      <th></th>\n",
       "      <th>open</th>\n",
       "      <th>close</th>\n",
       "    </tr>\n",
       "    <tr>\n",
       "      <th>commodity</th>\n",
       "      <th></th>\n",
       "      <th></th>\n",
       "    </tr>\n",
       "  </thead>\n",
       "  <tbody>\n",
       "    <tr>\n",
       "      <th>Corn</th>\n",
       "      <td>830.25</td>\n",
       "      <td>831.250000</td>\n",
       "    </tr>\n",
       "    <tr>\n",
       "      <th>KC HRW Wheat</th>\n",
       "      <td>1370.50</td>\n",
       "      <td>1367.750000</td>\n",
       "    </tr>\n",
       "    <tr>\n",
       "      <th>Oat</th>\n",
       "      <td>803.00</td>\n",
       "      <td>807.000000</td>\n",
       "    </tr>\n",
       "    <tr>\n",
       "      <th>Rough Rice</th>\n",
       "      <td>2435.00</td>\n",
       "      <td>2446.000000</td>\n",
       "    </tr>\n",
       "    <tr>\n",
       "      <th>Soybean</th>\n",
       "      <td>1778.50</td>\n",
       "      <td>1771.000000</td>\n",
       "    </tr>\n",
       "    <tr>\n",
       "      <th>Soybean Oil</th>\n",
       "      <td>90.50</td>\n",
       "      <td>90.599998</td>\n",
       "    </tr>\n",
       "  </tbody>\n",
       "</table>\n",
       "</div>"
      ],
      "text/plain": [
       "                 open        close\n",
       "commodity                         \n",
       "Corn           830.25   831.250000\n",
       "KC HRW Wheat  1370.50  1367.750000\n",
       "Oat            803.00   807.000000\n",
       "Rough Rice    2435.00  2446.000000\n",
       "Soybean       1778.50  1771.000000\n",
       "Soybean Oil     90.50    90.599998"
      ]
     },
     "execution_count": 9,
     "metadata": {},
     "output_type": "execute_result"
    }
   ],
   "source": [
    "#2. Which commodity price reached maximum during the trading session.\n",
    "g[[\"open\",\"close\"]].max()"
   ]
  },
  {
   "cell_type": "code",
   "execution_count": 12,
   "id": "9ecd1d66",
   "metadata": {},
   "outputs": [
    {
     "data": {
      "text/plain": [
       "open    NaN\n",
       "close   NaN\n",
       "dtype: float64"
      ]
     },
     "execution_count": 12,
     "metadata": {},
     "output_type": "execute_result"
    }
   ],
   "source": [
    "data.loc[data[\"commodity\"]==\"corn\",[\"open\",\"close\"]].max()"
   ]
  },
  {
   "cell_type": "code",
   "execution_count": 14,
   "id": "0d195388",
   "metadata": {},
   "outputs": [
    {
     "data": {
      "text/plain": [
       "open     803.0\n",
       "close    807.0\n",
       "dtype: float64"
      ]
     },
     "execution_count": 14,
     "metadata": {},
     "output_type": "execute_result"
    }
   ],
   "source": [
    "data.loc[data[\"commodity\"]==\"Oat\",[\"open\",\"close\"]].max()"
   ]
  },
  {
   "cell_type": "code",
   "execution_count": 15,
   "id": "7ffeb140",
   "metadata": {},
   "outputs": [
    {
     "data": {
      "text/plain": [
       "open     1370.50\n",
       "close    1367.75\n",
       "dtype: float64"
      ]
     },
     "execution_count": 15,
     "metadata": {},
     "output_type": "execute_result"
    }
   ],
   "source": [
    "data.loc[data[\"commodity\"]==\"KC HRW Wheat\",[\"open\",\"close\"]].max()"
   ]
  },
  {
   "cell_type": "code",
   "execution_count": 16,
   "id": "8b6a1c0f",
   "metadata": {},
   "outputs": [
    {
     "data": {
      "text/plain": [
       "open     2435.0\n",
       "close    2446.0\n",
       "dtype: float64"
      ]
     },
     "execution_count": 16,
     "metadata": {},
     "output_type": "execute_result"
    }
   ],
   "source": [
    "data.loc[data[\"commodity\"]==\"Rough Rice\",[\"open\",\"close\"]].max()"
   ]
  },
  {
   "cell_type": "code",
   "execution_count": 20,
   "id": "0f2e9aa2",
   "metadata": {},
   "outputs": [
    {
     "data": {
      "text/plain": [
       "open     90.500000\n",
       "close    90.599998\n",
       "dtype: float64"
      ]
     },
     "execution_count": 20,
     "metadata": {},
     "output_type": "execute_result"
    }
   ],
   "source": [
    "data.loc[data[\"commodity\"]==\"Soybean Oil\",[\"open\",\"close\"]].max()"
   ]
  },
  {
   "cell_type": "code",
   "execution_count": 21,
   "id": "63320cc8",
   "metadata": {},
   "outputs": [
    {
     "data": {
      "text/plain": [
       "open     1778.5\n",
       "close    1771.0\n",
       "dtype: float64"
      ]
     },
     "execution_count": 21,
     "metadata": {},
     "output_type": "execute_result"
    }
   ],
   "source": [
    "data.loc[data[\"commodity\"]==\"Soybean\",[\"open\",\"close\"]].max()"
   ]
  },
  {
   "cell_type": "code",
   "execution_count": 23,
   "id": "e461f50e",
   "metadata": {},
   "outputs": [
    {
     "data": {
      "text/plain": [
       "278.8970206131994"
      ]
     },
     "execution_count": 23,
     "metadata": {},
     "output_type": "execute_result"
    }
   ],
   "source": [
    "#3. What is the average Market's opening price for the oat in 2010\n",
    "data.loc[data[\"commodity\"]==\"Oat\",\"open\"].mean()"
   ]
  },
  {
   "cell_type": "code",
   "execution_count": 26,
   "id": "1c781bb8",
   "metadata": {},
   "outputs": [],
   "source": [
    "g=data.groupby(\"commodity\")"
   ]
  },
  {
   "cell_type": "code",
   "execution_count": 27,
   "id": "dd008bb1",
   "metadata": {},
   "outputs": [
    {
     "data": {
      "text/plain": [
       "commodity\n",
       "Corn             409.282059\n",
       "KC HRW Wheat     563.985475\n",
       "Oat              278.897021\n",
       "Rough Rice      1143.643069\n",
       "Soybean          997.618605\n",
       "Soybean Oil       36.837337\n",
       "Name: open, dtype: float64"
      ]
     },
     "execution_count": 27,
     "metadata": {},
     "output_type": "execute_result"
    }
   ],
   "source": [
    "g[\"open\"].mean()"
   ]
  },
  {
   "cell_type": "code",
   "execution_count": 28,
   "id": "8fb05121",
   "metadata": {},
   "outputs": [
    {
     "data": {
      "text/plain": [
       "ticker       NaN\n",
       "commodity    NaN\n",
       "date         NaN\n",
       "open         NaN\n",
       "high         NaN\n",
       "low          NaN\n",
       "close        NaN\n",
       "volume       NaN\n",
       "dtype: object"
      ]
     },
     "execution_count": 28,
     "metadata": {},
     "output_type": "execute_result"
    }
   ],
   "source": [
    "#4. What is the maximum and minimum Number of contacts traded during the 2009\n",
    "data.loc[data[\"open\"]==data[\"date\"].max()].max()"
   ]
  },
  {
   "cell_type": "code",
   "execution_count": 29,
   "id": "aab19cd2",
   "metadata": {},
   "outputs": [],
   "source": [
    "g=data.groupby(\"ticker\")"
   ]
  },
  {
   "cell_type": "code",
   "execution_count": 30,
   "id": "717af428",
   "metadata": {
    "scrolled": true
   },
   "outputs": [
    {
     "ename": "KeyError",
     "evalue": "'Columns not found: False'",
     "output_type": "error",
     "traceback": [
      "\u001b[1;31m---------------------------------------------------------------------------\u001b[0m",
      "\u001b[1;31mKeyError\u001b[0m                                  Traceback (most recent call last)",
      "Cell \u001b[1;32mIn[30], line 1\u001b[0m\n\u001b[1;32m----> 1\u001b[0m g[\u001b[38;5;124m\"\u001b[39m\u001b[38;5;124mdata\u001b[39m\u001b[38;5;124m\"\u001b[39m\u001b[38;5;241m==\u001b[39mpd\u001b[38;5;241m.\u001b[39mdate_range(\u001b[38;5;124m\"\u001b[39m\u001b[38;5;124m1-1-2009\u001b[39m\u001b[38;5;124m\"\u001b[39m,\u001b[38;5;124m\"\u001b[39m\u001b[38;5;124m1-1-2010\u001b[39m\u001b[38;5;124m\"\u001b[39m,freq\u001b[38;5;241m=\u001b[39m\u001b[38;5;124m\"\u001b[39m\u001b[38;5;124md\u001b[39m\u001b[38;5;124m\"\u001b[39m)]\u001b[38;5;241m.\u001b[39mmax()\n",
      "File \u001b[1;32mC:\\DATA SCIENCE\\Lib\\site-packages\\pandas\\core\\groupby\\generic.py:1416\u001b[0m, in \u001b[0;36mDataFrameGroupBy.__getitem__\u001b[1;34m(self, key)\u001b[0m\n\u001b[0;32m   1407\u001b[0m \u001b[38;5;28;01mif\u001b[39;00m \u001b[38;5;28misinstance\u001b[39m(key, \u001b[38;5;28mtuple\u001b[39m) \u001b[38;5;129;01mand\u001b[39;00m \u001b[38;5;28mlen\u001b[39m(key) \u001b[38;5;241m>\u001b[39m \u001b[38;5;241m1\u001b[39m:\n\u001b[0;32m   1408\u001b[0m     \u001b[38;5;66;03m# if len == 1, then it becomes a SeriesGroupBy and this is actually\u001b[39;00m\n\u001b[0;32m   1409\u001b[0m     \u001b[38;5;66;03m# valid syntax, so don't raise warning\u001b[39;00m\n\u001b[0;32m   1410\u001b[0m     warnings\u001b[38;5;241m.\u001b[39mwarn(\n\u001b[0;32m   1411\u001b[0m         \u001b[38;5;124m\"\u001b[39m\u001b[38;5;124mIndexing with multiple keys (implicitly converted to a tuple \u001b[39m\u001b[38;5;124m\"\u001b[39m\n\u001b[0;32m   1412\u001b[0m         \u001b[38;5;124m\"\u001b[39m\u001b[38;5;124mof keys) will be deprecated, use a list instead.\u001b[39m\u001b[38;5;124m\"\u001b[39m,\n\u001b[0;32m   1413\u001b[0m         \u001b[38;5;167;01mFutureWarning\u001b[39;00m,\n\u001b[0;32m   1414\u001b[0m         stacklevel\u001b[38;5;241m=\u001b[39mfind_stack_level(),\n\u001b[0;32m   1415\u001b[0m     )\n\u001b[1;32m-> 1416\u001b[0m \u001b[38;5;28;01mreturn\u001b[39;00m \u001b[38;5;28msuper\u001b[39m()\u001b[38;5;241m.\u001b[39m\u001b[38;5;21m__getitem__\u001b[39m(key)\n",
      "File \u001b[1;32mC:\\DATA SCIENCE\\Lib\\site-packages\\pandas\\core\\base.py:238\u001b[0m, in \u001b[0;36mSelectionMixin.__getitem__\u001b[1;34m(self, key)\u001b[0m\n\u001b[0;32m    236\u001b[0m     \u001b[38;5;28;01mif\u001b[39;00m \u001b[38;5;28mlen\u001b[39m(\u001b[38;5;28mself\u001b[39m\u001b[38;5;241m.\u001b[39mobj\u001b[38;5;241m.\u001b[39mcolumns\u001b[38;5;241m.\u001b[39mintersection(key)) \u001b[38;5;241m!=\u001b[39m \u001b[38;5;28mlen\u001b[39m(\u001b[38;5;28mset\u001b[39m(key)):\n\u001b[0;32m    237\u001b[0m         bad_keys \u001b[38;5;241m=\u001b[39m \u001b[38;5;28mlist\u001b[39m(\u001b[38;5;28mset\u001b[39m(key)\u001b[38;5;241m.\u001b[39mdifference(\u001b[38;5;28mself\u001b[39m\u001b[38;5;241m.\u001b[39mobj\u001b[38;5;241m.\u001b[39mcolumns))\n\u001b[1;32m--> 238\u001b[0m         \u001b[38;5;28;01mraise\u001b[39;00m \u001b[38;5;167;01mKeyError\u001b[39;00m(\u001b[38;5;124mf\u001b[39m\u001b[38;5;124m\"\u001b[39m\u001b[38;5;124mColumns not found: \u001b[39m\u001b[38;5;132;01m{\u001b[39;00m\u001b[38;5;28mstr\u001b[39m(bad_keys)[\u001b[38;5;241m1\u001b[39m:\u001b[38;5;241m-\u001b[39m\u001b[38;5;241m1\u001b[39m]\u001b[38;5;132;01m}\u001b[39;00m\u001b[38;5;124m\"\u001b[39m)\n\u001b[0;32m    239\u001b[0m     \u001b[38;5;28;01mreturn\u001b[39;00m \u001b[38;5;28mself\u001b[39m\u001b[38;5;241m.\u001b[39m_gotitem(\u001b[38;5;28mlist\u001b[39m(key), ndim\u001b[38;5;241m=\u001b[39m\u001b[38;5;241m2\u001b[39m)\n\u001b[0;32m    241\u001b[0m \u001b[38;5;28;01melif\u001b[39;00m \u001b[38;5;129;01mnot\u001b[39;00m \u001b[38;5;28mgetattr\u001b[39m(\u001b[38;5;28mself\u001b[39m, \u001b[38;5;124m\"\u001b[39m\u001b[38;5;124mas_index\u001b[39m\u001b[38;5;124m\"\u001b[39m, \u001b[38;5;28;01mFalse\u001b[39;00m):\n",
      "\u001b[1;31mKeyError\u001b[0m: 'Columns not found: False'"
     ]
    }
   ],
   "source": [
    "g[\"data\"==pd.date_range(\"1-1-2009\",\"1-1-2010\",freq=\"d\")].max()"
   ]
  },
  {
   "cell_type": "code",
   "execution_count": 31,
   "id": "0d3d3064",
   "metadata": {},
   "outputs": [
    {
     "data": {
      "text/plain": [
       "ticker\n",
       "KE=F    2000-09-21\n",
       "ZC=F    2000-07-17\n",
       "ZL=F    2000-03-15\n",
       "ZO=F    2000-01-03\n",
       "ZR=F    2000-01-03\n",
       "ZS=F    2000-09-15\n",
       "Name: date, dtype: object"
      ]
     },
     "execution_count": 31,
     "metadata": {},
     "output_type": "execute_result"
    }
   ],
   "source": [
    "g[\"date\"].min()"
   ]
  },
  {
   "cell_type": "code",
   "execution_count": 32,
   "id": "59263dc2",
   "metadata": {},
   "outputs": [
    {
     "data": {
      "text/plain": [
       "ticker       NaN\n",
       "commodity    NaN\n",
       "date         NaN\n",
       "open         NaN\n",
       "high         NaN\n",
       "low          NaN\n",
       "close        NaN\n",
       "volume       NaN\n",
       "dtype: object"
      ]
     },
     "execution_count": 32,
     "metadata": {},
     "output_type": "execute_result"
    }
   ],
   "source": [
    "data.loc[data[\"open\"]==data[\"date\"]].min()"
   ]
  },
  {
   "cell_type": "code",
   "execution_count": 33,
   "id": "565b1a2f",
   "metadata": {},
   "outputs": [
    {
     "data": {
      "text/plain": [
       "date    NaN\n",
       "dtype: object"
      ]
     },
     "execution_count": 33,
     "metadata": {},
     "output_type": "execute_result"
    }
   ],
   "source": [
    "#5. Which year have maximum and minimum Number of contracts traded\n",
    "data.loc[data[\"date\"]==data[\"open\"],[\"date\"]].max()"
   ]
  },
  {
   "cell_type": "code",
   "execution_count": 34,
   "id": "edbdd9da",
   "metadata": {},
   "outputs": [
    {
     "data": {
      "text/plain": [
       "date    NaN\n",
       "dtype: object"
      ]
     },
     "execution_count": 34,
     "metadata": {},
     "output_type": "execute_result"
    }
   ],
   "source": [
    "data.loc[data[\"date\"]==data[\"open\"],[\"date\"]].min()"
   ]
  },
  {
   "cell_type": "code",
   "execution_count": 35,
   "id": "256fbc36",
   "metadata": {},
   "outputs": [],
   "source": [
    "g=data.groupby(\"ticker\")"
   ]
  },
  {
   "cell_type": "code",
   "execution_count": 36,
   "id": "175018f0",
   "metadata": {},
   "outputs": [
    {
     "data": {
      "text/plain": [
       "ticker\n",
       "KE=F    5783\n",
       "ZC=F    5794\n",
       "ZL=F    5810\n",
       "ZO=F    5773\n",
       "ZR=F    5937\n",
       "ZS=F    5786\n",
       "Name: ticker, dtype: int64"
      ]
     },
     "execution_count": 36,
     "metadata": {},
     "output_type": "execute_result"
    }
   ],
   "source": [
    "g[\"ticker\"].count()"
   ]
  },
  {
   "cell_type": "code",
   "execution_count": 37,
   "id": "7388f72b",
   "metadata": {},
   "outputs": [
    {
     "data": {
      "text/plain": [
       "5937"
      ]
     },
     "execution_count": 37,
     "metadata": {},
     "output_type": "execute_result"
    }
   ],
   "source": [
    "(g[\"ticker\"].count()).max()"
   ]
  },
  {
   "cell_type": "code",
   "execution_count": 38,
   "id": "05002b75",
   "metadata": {},
   "outputs": [
    {
     "data": {
      "text/plain": [
       "5773"
      ]
     },
     "execution_count": 38,
     "metadata": {},
     "output_type": "execute_result"
    }
   ],
   "source": [
    "(g[\"ticker\"].count()).min()"
   ]
  },
  {
   "cell_type": "code",
   "execution_count": 39,
   "id": "56307a5e",
   "metadata": {},
   "outputs": [],
   "source": [
    "#6. Which commodity have the average lowest opening price around 2001 to 2005\n",
    "g=data.groupby(\"commodity\")"
   ]
  },
  {
   "cell_type": "code",
   "execution_count": 40,
   "id": "2857cbbd",
   "metadata": {},
   "outputs": [
    {
     "data": {
      "text/plain": [
       "commodity\n",
       "Corn             409.282059\n",
       "KC HRW Wheat     563.985475\n",
       "Oat              278.897021\n",
       "Rough Rice      1143.643069\n",
       "Soybean          997.618605\n",
       "Soybean Oil       36.837337\n",
       "Name: open, dtype: float64"
      ]
     },
     "execution_count": 40,
     "metadata": {},
     "output_type": "execute_result"
    }
   ],
   "source": [
    "g[\"open\"].mean()"
   ]
  },
  {
   "cell_type": "code",
   "execution_count": 41,
   "id": "fc005da4",
   "metadata": {},
   "outputs": [
    {
     "data": {
      "text/plain": [
       "36.8373373422278"
      ]
     },
     "execution_count": 41,
     "metadata": {},
     "output_type": "execute_result"
    }
   ],
   "source": [
    "(g[\"open\"].mean()).min()"
   ]
  },
  {
   "cell_type": "code",
   "execution_count": 43,
   "id": "f68ac25b",
   "metadata": {},
   "outputs": [],
   "source": [
    "#7. Which commodity have the best average market's closing price\n",
    "g=data.groupby(\"commodity\")"
   ]
  },
  {
   "cell_type": "code",
   "execution_count": 44,
   "id": "b59fea76",
   "metadata": {},
   "outputs": [
    {
     "data": {
      "text/plain": [
       "commodity\n",
       "Corn             409.404772\n",
       "KC HRW Wheat     563.693282\n",
       "Oat              278.657674\n",
       "Rough Rice      1143.607925\n",
       "Soybean          998.015728\n",
       "Soybean Oil       36.820361\n",
       "Name: close, dtype: float64"
      ]
     },
     "execution_count": 44,
     "metadata": {},
     "output_type": "execute_result"
    }
   ],
   "source": [
    "g[\"close\"].mean()"
   ]
  },
  {
   "cell_type": "code",
   "execution_count": 45,
   "id": "ccc23073",
   "metadata": {},
   "outputs": [
    {
     "data": {
      "text/plain": [
       "1143.607924888165"
      ]
     },
     "execution_count": 45,
     "metadata": {},
     "output_type": "execute_result"
    }
   ],
   "source": [
    "(g[\"close\"].mean()).max()"
   ]
  },
  {
   "cell_type": "code",
   "execution_count": 46,
   "id": "1345ec07",
   "metadata": {},
   "outputs": [
    {
     "data": {
      "text/html": [
       "<div>\n",
       "<style scoped>\n",
       "    .dataframe tbody tr th:only-of-type {\n",
       "        vertical-align: middle;\n",
       "    }\n",
       "\n",
       "    .dataframe tbody tr th {\n",
       "        vertical-align: top;\n",
       "    }\n",
       "\n",
       "    .dataframe thead th {\n",
       "        text-align: right;\n",
       "    }\n",
       "</style>\n",
       "<table border=\"1\" class=\"dataframe\">\n",
       "  <thead>\n",
       "    <tr style=\"text-align: right;\">\n",
       "      <th></th>\n",
       "      <th>date</th>\n",
       "      <th>high</th>\n",
       "    </tr>\n",
       "  </thead>\n",
       "  <tbody>\n",
       "    <tr>\n",
       "      <th>19437</th>\n",
       "      <td>2008-04-24</td>\n",
       "      <td>2468.5</td>\n",
       "    </tr>\n",
       "  </tbody>\n",
       "</table>\n",
       "</div>"
      ],
      "text/plain": [
       "             date    high\n",
       "19437  2008-04-24  2468.5"
      ]
     },
     "execution_count": 46,
     "metadata": {},
     "output_type": "execute_result"
    }
   ],
   "source": [
    "#8. Which year corn have the highest and lowest Number of contracts traded\n",
    "data.loc[data[\"high\"]==data[\"high\"].max(),[\"date\",\"high\"]]"
   ]
  },
  {
   "cell_type": "code",
   "execution_count": 47,
   "id": "1fe28230",
   "metadata": {},
   "outputs": [
    {
     "data": {
      "text/html": [
       "<div>\n",
       "<style scoped>\n",
       "    .dataframe tbody tr th:only-of-type {\n",
       "        vertical-align: middle;\n",
       "    }\n",
       "\n",
       "    .dataframe tbody tr th {\n",
       "        vertical-align: top;\n",
       "    }\n",
       "\n",
       "    .dataframe thead th {\n",
       "        text-align: right;\n",
       "    }\n",
       "</style>\n",
       "<table border=\"1\" class=\"dataframe\">\n",
       "  <thead>\n",
       "    <tr style=\"text-align: right;\">\n",
       "      <th></th>\n",
       "      <th>date</th>\n",
       "      <th>low</th>\n",
       "    </tr>\n",
       "  </thead>\n",
       "  <tbody>\n",
       "    <tr>\n",
       "      <th>19436</th>\n",
       "      <td>2008-04-23</td>\n",
       "      <td>2400.0</td>\n",
       "    </tr>\n",
       "  </tbody>\n",
       "</table>\n",
       "</div>"
      ],
      "text/plain": [
       "             date     low\n",
       "19436  2008-04-23  2400.0"
      ]
     },
     "execution_count": 47,
     "metadata": {},
     "output_type": "execute_result"
    }
   ],
   "source": [
    "data.loc[data[\"low\"]==data[\"low\"].max(),[\"date\",\"low\"]]"
   ]
  },
  {
   "cell_type": "code",
   "execution_count": null,
   "id": "f78d7a08",
   "metadata": {},
   "outputs": [],
   "source": []
  }
 ],
 "metadata": {
  "kernelspec": {
   "display_name": "Python 3 (ipykernel)",
   "language": "python",
   "name": "python3"
  },
  "language_info": {
   "codemirror_mode": {
    "name": "ipython",
    "version": 3
   },
   "file_extension": ".py",
   "mimetype": "text/x-python",
   "name": "python",
   "nbconvert_exporter": "python",
   "pygments_lexer": "ipython3",
   "version": "3.11.3"
  }
 },
 "nbformat": 4,
 "nbformat_minor": 5
}
